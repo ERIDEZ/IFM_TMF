{
 "cells": [
  {
   "cell_type": "markdown",
   "id": "19c606a5",
   "metadata": {},
   "source": [
    "## ETAPA 2: TRABAJO EN VARIABLES EXPLICATIVAS"
   ]
  },
  {
   "cell_type": "code",
   "execution_count": 1,
   "id": "7e23e2cc",
   "metadata": {},
   "outputs": [],
   "source": [
    "# Dependencias básicas\n",
    "import pandas as pd\n",
    "import numpy as np\n",
    "\n",
    "# Dependencias de visualización\n",
    "from matplotlib import pyplot as plt\n",
    "import seaborn as sns\n",
    "import altair as alt"
   ]
  },
  {
   "cell_type": "code",
   "execution_count": 2,
   "id": "bedb98cd",
   "metadata": {},
   "outputs": [],
   "source": [
    "nacional = pd.read_csv(\"../10 - Padron 1998 - 2022 (nacional y comunidades)/Nacional/01005.csv\", sep=\";\")"
   ]
  },
  {
   "cell_type": "code",
   "execution_count": 3,
   "id": "bc2988a2",
   "metadata": {},
   "outputs": [],
   "source": [
    "comunidades = pd.read_excel(\"../10 - Padron 1998 - 2022 (nacional y comunidades)/Comunidades/02006.xlsx\")"
   ]
  },
  {
   "cell_type": "code",
   "execution_count": 4,
   "id": "0eddc8b3",
   "metadata": {},
   "outputs": [
    {
     "data": {
      "text/html": [
       "<div>\n",
       "<style scoped>\n",
       "    .dataframe tbody tr th:only-of-type {\n",
       "        vertical-align: middle;\n",
       "    }\n",
       "\n",
       "    .dataframe tbody tr th {\n",
       "        vertical-align: top;\n",
       "    }\n",
       "\n",
       "    .dataframe thead th {\n",
       "        text-align: right;\n",
       "    }\n",
       "</style>\n",
       "<table border=\"1\" class=\"dataframe\">\n",
       "  <thead>\n",
       "    <tr style=\"text-align: right;\">\n",
       "      <th></th>\n",
       "      <th>Nacionalidad</th>\n",
       "      <th>Sexo</th>\n",
       "      <th>Año</th>\n",
       "      <th>Total</th>\n",
       "    </tr>\n",
       "  </thead>\n",
       "  <tbody>\n",
       "    <tr>\n",
       "      <th>0</th>\n",
       "      <td>TOTAL EXTRANJEROS</td>\n",
       "      <td>Ambos sexos</td>\n",
       "      <td>2022</td>\n",
       "      <td>5.542.932</td>\n",
       "    </tr>\n",
       "    <tr>\n",
       "      <th>1</th>\n",
       "      <td>TOTAL EXTRANJEROS</td>\n",
       "      <td>Ambos sexos</td>\n",
       "      <td>2021</td>\n",
       "      <td>5.440.148</td>\n",
       "    </tr>\n",
       "    <tr>\n",
       "      <th>2</th>\n",
       "      <td>TOTAL EXTRANJEROS</td>\n",
       "      <td>Ambos sexos</td>\n",
       "      <td>2020</td>\n",
       "      <td>5.434.153</td>\n",
       "    </tr>\n",
       "    <tr>\n",
       "      <th>3</th>\n",
       "      <td>TOTAL EXTRANJEROS</td>\n",
       "      <td>Ambos sexos</td>\n",
       "      <td>2019</td>\n",
       "      <td>5.036.878</td>\n",
       "    </tr>\n",
       "    <tr>\n",
       "      <th>4</th>\n",
       "      <td>TOTAL EXTRANJEROS</td>\n",
       "      <td>Ambos sexos</td>\n",
       "      <td>2018</td>\n",
       "      <td>4.734.691</td>\n",
       "    </tr>\n",
       "    <tr>\n",
       "      <th>...</th>\n",
       "      <td>...</td>\n",
       "      <td>...</td>\n",
       "      <td>...</td>\n",
       "      <td>...</td>\n",
       "    </tr>\n",
       "    <tr>\n",
       "      <th>10270</th>\n",
       "      <td>APÁTRIDAS</td>\n",
       "      <td>Mujeres</td>\n",
       "      <td>2002</td>\n",
       "      <td>166</td>\n",
       "    </tr>\n",
       "    <tr>\n",
       "      <th>10271</th>\n",
       "      <td>APÁTRIDAS</td>\n",
       "      <td>Mujeres</td>\n",
       "      <td>2001</td>\n",
       "      <td>131</td>\n",
       "    </tr>\n",
       "    <tr>\n",
       "      <th>10272</th>\n",
       "      <td>APÁTRIDAS</td>\n",
       "      <td>Mujeres</td>\n",
       "      <td>2000</td>\n",
       "      <td>111</td>\n",
       "    </tr>\n",
       "    <tr>\n",
       "      <th>10273</th>\n",
       "      <td>APÁTRIDAS</td>\n",
       "      <td>Mujeres</td>\n",
       "      <td>1999</td>\n",
       "      <td>85</td>\n",
       "    </tr>\n",
       "    <tr>\n",
       "      <th>10274</th>\n",
       "      <td>APÁTRIDAS</td>\n",
       "      <td>Mujeres</td>\n",
       "      <td>1998</td>\n",
       "      <td>82</td>\n",
       "    </tr>\n",
       "  </tbody>\n",
       "</table>\n",
       "<p>10275 rows × 4 columns</p>\n",
       "</div>"
      ],
      "text/plain": [
       "            Nacionalidad         Sexo   Año      Total\n",
       "0      TOTAL EXTRANJEROS  Ambos sexos  2022  5.542.932\n",
       "1      TOTAL EXTRANJEROS  Ambos sexos  2021  5.440.148\n",
       "2      TOTAL EXTRANJEROS  Ambos sexos  2020  5.434.153\n",
       "3      TOTAL EXTRANJEROS  Ambos sexos  2019  5.036.878\n",
       "4      TOTAL EXTRANJEROS  Ambos sexos  2018  4.734.691\n",
       "...                  ...          ...   ...        ...\n",
       "10270          APÁTRIDAS      Mujeres  2002        166\n",
       "10271          APÁTRIDAS      Mujeres  2001        131\n",
       "10272          APÁTRIDAS      Mujeres  2000        111\n",
       "10273          APÁTRIDAS      Mujeres  1999         85\n",
       "10274          APÁTRIDAS      Mujeres  1998         82\n",
       "\n",
       "[10275 rows x 4 columns]"
      ]
     },
     "execution_count": 4,
     "metadata": {},
     "output_type": "execute_result"
    }
   ],
   "source": [
    "nacional"
   ]
  },
  {
   "cell_type": "code",
   "execution_count": 5,
   "id": "f5801b91",
   "metadata": {},
   "outputs": [
    {
     "data": {
      "text/html": [
       "<div>\n",
       "<style scoped>\n",
       "    .dataframe tbody tr th:only-of-type {\n",
       "        vertical-align: middle;\n",
       "    }\n",
       "\n",
       "    .dataframe tbody tr th {\n",
       "        vertical-align: top;\n",
       "    }\n",
       "\n",
       "    .dataframe thead th {\n",
       "        text-align: right;\n",
       "    }\n",
       "</style>\n",
       "<table border=\"1\" class=\"dataframe\">\n",
       "  <thead>\n",
       "    <tr style=\"text-align: right;\">\n",
       "      <th></th>\n",
       "      <th>Comunidades</th>\n",
       "      <th>País de Nacimiento</th>\n",
       "      <th>Español/Extranjero</th>\n",
       "      <th>Sexo</th>\n",
       "      <th>Año</th>\n",
       "      <th>Total</th>\n",
       "    </tr>\n",
       "  </thead>\n",
       "  <tbody>\n",
       "    <tr>\n",
       "      <th>0</th>\n",
       "      <td>Total Nacional</td>\n",
       "      <td>TOTAL POBLACIÓN</td>\n",
       "      <td>TOTAL</td>\n",
       "      <td>Ambos sexos</td>\n",
       "      <td>2022</td>\n",
       "      <td>47.475.420</td>\n",
       "    </tr>\n",
       "    <tr>\n",
       "      <th>1</th>\n",
       "      <td>Total Nacional</td>\n",
       "      <td>TOTAL POBLACIÓN</td>\n",
       "      <td>TOTAL</td>\n",
       "      <td>Ambos sexos</td>\n",
       "      <td>2021</td>\n",
       "      <td>47.385.107</td>\n",
       "    </tr>\n",
       "    <tr>\n",
       "      <th>2</th>\n",
       "      <td>Total Nacional</td>\n",
       "      <td>TOTAL POBLACIÓN</td>\n",
       "      <td>TOTAL</td>\n",
       "      <td>Ambos sexos</td>\n",
       "      <td>2020</td>\n",
       "      <td>47.450.795</td>\n",
       "    </tr>\n",
       "    <tr>\n",
       "      <th>3</th>\n",
       "      <td>Total Nacional</td>\n",
       "      <td>TOTAL POBLACIÓN</td>\n",
       "      <td>TOTAL</td>\n",
       "      <td>Ambos sexos</td>\n",
       "      <td>2019</td>\n",
       "      <td>47.026.208</td>\n",
       "    </tr>\n",
       "    <tr>\n",
       "      <th>4</th>\n",
       "      <td>Total Nacional</td>\n",
       "      <td>TOTAL POBLACIÓN</td>\n",
       "      <td>TOTAL</td>\n",
       "      <td>Ambos sexos</td>\n",
       "      <td>2018</td>\n",
       "      <td>46.722.980</td>\n",
       "    </tr>\n",
       "    <tr>\n",
       "      <th>...</th>\n",
       "      <td>...</td>\n",
       "      <td>...</td>\n",
       "      <td>...</td>\n",
       "      <td>...</td>\n",
       "      <td>...</td>\n",
       "      <td>...</td>\n",
       "    </tr>\n",
       "    <tr>\n",
       "      <th>598495</th>\n",
       "      <td>19 Melilla</td>\n",
       "      <td>Resto de Países de Oceanía</td>\n",
       "      <td>Nacionalidad Extranjera</td>\n",
       "      <td>Mujeres</td>\n",
       "      <td>2002</td>\n",
       "      <td>0</td>\n",
       "    </tr>\n",
       "    <tr>\n",
       "      <th>598496</th>\n",
       "      <td>19 Melilla</td>\n",
       "      <td>Resto de Países de Oceanía</td>\n",
       "      <td>Nacionalidad Extranjera</td>\n",
       "      <td>Mujeres</td>\n",
       "      <td>2001</td>\n",
       "      <td>0</td>\n",
       "    </tr>\n",
       "    <tr>\n",
       "      <th>598497</th>\n",
       "      <td>19 Melilla</td>\n",
       "      <td>Resto de Países de Oceanía</td>\n",
       "      <td>Nacionalidad Extranjera</td>\n",
       "      <td>Mujeres</td>\n",
       "      <td>2000</td>\n",
       "      <td>0</td>\n",
       "    </tr>\n",
       "    <tr>\n",
       "      <th>598498</th>\n",
       "      <td>19 Melilla</td>\n",
       "      <td>Resto de Países de Oceanía</td>\n",
       "      <td>Nacionalidad Extranjera</td>\n",
       "      <td>Mujeres</td>\n",
       "      <td>1999</td>\n",
       "      <td>0</td>\n",
       "    </tr>\n",
       "    <tr>\n",
       "      <th>598499</th>\n",
       "      <td>19 Melilla</td>\n",
       "      <td>Resto de Países de Oceanía</td>\n",
       "      <td>Nacionalidad Extranjera</td>\n",
       "      <td>Mujeres</td>\n",
       "      <td>1998</td>\n",
       "      <td>0</td>\n",
       "    </tr>\n",
       "  </tbody>\n",
       "</table>\n",
       "<p>598500 rows × 6 columns</p>\n",
       "</div>"
      ],
      "text/plain": [
       "           Comunidades          País de Nacimiento       Español/Extranjero  \\\n",
       "0       Total Nacional             TOTAL POBLACIÓN                    TOTAL   \n",
       "1       Total Nacional             TOTAL POBLACIÓN                    TOTAL   \n",
       "2       Total Nacional             TOTAL POBLACIÓN                    TOTAL   \n",
       "3       Total Nacional             TOTAL POBLACIÓN                    TOTAL   \n",
       "4       Total Nacional             TOTAL POBLACIÓN                    TOTAL   \n",
       "...                ...                         ...                      ...   \n",
       "598495      19 Melilla  Resto de Países de Oceanía  Nacionalidad Extranjera   \n",
       "598496      19 Melilla  Resto de Países de Oceanía  Nacionalidad Extranjera   \n",
       "598497      19 Melilla  Resto de Países de Oceanía  Nacionalidad Extranjera   \n",
       "598498      19 Melilla  Resto de Países de Oceanía  Nacionalidad Extranjera   \n",
       "598499      19 Melilla  Resto de Países de Oceanía  Nacionalidad Extranjera   \n",
       "\n",
       "               Sexo   Año       Total  \n",
       "0       Ambos sexos  2022  47.475.420  \n",
       "1       Ambos sexos  2021  47.385.107  \n",
       "2       Ambos sexos  2020  47.450.795  \n",
       "3       Ambos sexos  2019  47.026.208  \n",
       "4       Ambos sexos  2018  46.722.980  \n",
       "...             ...   ...         ...  \n",
       "598495      Mujeres  2002           0  \n",
       "598496      Mujeres  2001           0  \n",
       "598497      Mujeres  2000           0  \n",
       "598498      Mujeres  1999           0  \n",
       "598499      Mujeres  1998           0  \n",
       "\n",
       "[598500 rows x 6 columns]"
      ]
     },
     "execution_count": 5,
     "metadata": {},
     "output_type": "execute_result"
    }
   ],
   "source": [
    "comunidades"
   ]
  },
  {
   "cell_type": "markdown",
   "id": "236e7d5a",
   "metadata": {},
   "source": [
    "### Trabajo en archivo \"comunidades\""
   ]
  },
  {
   "cell_type": "code",
   "execution_count": 6,
   "id": "6c86d293",
   "metadata": {},
   "outputs": [
    {
     "data": {
      "text/plain": [
       "Comunidades           object\n",
       "País de Nacimiento    object\n",
       "Español/Extranjero    object\n",
       "Sexo                  object\n",
       "Año                    int64\n",
       "Total                 object\n",
       "dtype: object"
      ]
     },
     "execution_count": 6,
     "metadata": {},
     "output_type": "execute_result"
    }
   ],
   "source": [
    "# Leemos el tipo de dato que es cada columna\n",
    "comunidades.dtypes"
   ]
  },
  {
   "cell_type": "code",
   "execution_count": 7,
   "id": "4857b896",
   "metadata": {},
   "outputs": [
    {
     "data": {
      "text/plain": [
       "0"
      ]
     },
     "execution_count": 7,
     "metadata": {},
     "output_type": "execute_result"
    }
   ],
   "source": [
    "# Comprobamos existencia de nulos en la cuenta de totales\n",
    "comunidades[\"Total\"].isnull().sum()"
   ]
  },
  {
   "cell_type": "code",
   "execution_count": 8,
   "id": "1a75be45",
   "metadata": {},
   "outputs": [
    {
     "name": "stderr",
     "output_type": "stream",
     "text": [
      "C:\\Users\\erick\\AppData\\Local\\Temp\\ipykernel_16672\\702572823.py:2: FutureWarning: The default value of regex will change from True to False in a future version. In addition, single character regular expressions will *not* be treated as literal strings when regex=True.\n",
      "  comunidades['Total'] = comunidades['Total'].str.replace('.', '')\n"
     ]
    }
   ],
   "source": [
    "# Convertimos la columna Total del dataframe de Comunidades a integers\n",
    "comunidades['Total'] = comunidades['Total'].str.replace('.', '')"
   ]
  },
  {
   "cell_type": "code",
   "execution_count": 9,
   "id": "233456d6",
   "metadata": {},
   "outputs": [],
   "source": [
    "# Asignamos tipo de datos Total a integer\n",
    "comunidades[\"Total\"] = comunidades[\"Total\"].fillna(0).astype(int)"
   ]
  },
  {
   "cell_type": "code",
   "execution_count": 10,
   "id": "295595e1",
   "metadata": {},
   "outputs": [
    {
     "data": {
      "text/plain": [
       "array(['TOTAL', 'Nacionalidad Española', 'Nacionalidad Extranjera'],\n",
       "      dtype=object)"
      ]
     },
     "execution_count": 10,
     "metadata": {},
     "output_type": "execute_result"
    }
   ],
   "source": [
    "# Comprobamos extensión de datos en tipo de nacionalidad\n",
    "comunidades[\"Español/Extranjero\"].unique()"
   ]
  },
  {
   "cell_type": "code",
   "execution_count": 11,
   "id": "1387db82",
   "metadata": {},
   "outputs": [
    {
     "data": {
      "text/plain": [
       "array(['TOTAL POBLACIÓN', 'NACIDOS EN ESPAÑA', 'NACIDOS EN EL EXTRANJERO',\n",
       "       'PAÍSES EUROPEOS', 'UNIÓN EUROPEA (27_2020)', 'Alemania',\n",
       "       'Austria', 'Bélgica', 'Bulgaria', 'Chipre', 'Croacia', 'Dinamarca',\n",
       "       'Eslovenia', 'Estonia', 'Finlandia', 'Francia', 'Grecia',\n",
       "       'Hungría', 'Irlanda', 'Italia', 'Letonia', 'Lituania',\n",
       "       'Luxemburgo', 'Malta', 'Países Bajos', 'Polonia', 'Portugal',\n",
       "       'República Checa', 'República Eslovaca', 'Rumanía', 'Suecia',\n",
       "       'PAÍSES EUROPEOS NO UE(27_2020)', 'Albania', 'Andorra', 'Armenia',\n",
       "       'Belarús', 'Bosnia y Herzegovina', 'Georgia', 'Islandia',\n",
       "       'Liechtenstein', 'Macedonia del Norte', 'Moldavia', 'Noruega',\n",
       "       'Reino Unido', 'Rusia', 'Serbia y Montenegro (Antigua Yugoslavia)',\n",
       "       'Serbia', 'Suiza', 'Turquía', 'Ucrania',\n",
       "       'Resto de Países Europeos', 'PAÍSES AFRICANOS', 'Angola',\n",
       "       'Argelia', 'Benin', 'Burkina Faso', 'Cabo Verde', 'Camerún',\n",
       "       'Congo', 'Costa de Marfil', 'Egipto', 'Etiopía', 'Gambia', 'Ghana',\n",
       "       'Guinea', 'Guinea Ecuatorial', 'Guinea-Bissau', 'Kenia', 'Liberia',\n",
       "       'Mali', 'Marruecos', 'Mauritania', 'Nigeria',\n",
       "       'República Democrática del Congo', 'Senegal', 'Sierra Leona',\n",
       "       'Sudáfrica', 'Togo', 'Túnez', 'Resto de Países Africanos',\n",
       "       'PAÍSES AMERICANOS', 'AMÉRICA CENTRAL Y CARIBE', 'Costa Rica',\n",
       "       'Cuba', 'Dominica', 'El Salvador', 'Guatemala', 'Honduras',\n",
       "       'Nicaragua', 'Panamá', 'República Dominicana',\n",
       "       'Resto de América Central y Caribe', 'AMÉRICA DEL NORTE', 'Canadá',\n",
       "       'Estados Unidos de América', 'México', 'AMÉRICA DEL SUR',\n",
       "       'Argentina', 'Bolivia', 'Brasil', 'Chile', 'Colombia', 'Ecuador',\n",
       "       'Paraguay', 'Perú', 'Uruguay', 'Venezuela',\n",
       "       'Resto de América del Sur', 'PAÍSES ASIÁTICOS', 'Arabia Saudí',\n",
       "       'Bangladesh', 'China', 'Corea', 'Filipinas', 'India', 'Indonesia',\n",
       "       'Irán', 'Iraq', 'Israel', 'Japón', 'Jordania', 'Kazajstán',\n",
       "       'Líbano', 'Nepal', 'Pakistán', 'Siria', 'Tailandia', 'Vietnam',\n",
       "       'Resto de Países Asiáticos', 'PAÍSES DE OCEANÍA', 'Australia',\n",
       "       'Nueva Zelanda', 'Resto de Países de Oceanía'], dtype=object)"
      ]
     },
     "execution_count": 11,
     "metadata": {},
     "output_type": "execute_result"
    }
   ],
   "source": [
    "# Comprobamos extensión de los países existentes en nuestros datos\n",
    "comunidades[\"País de Nacimiento\"].unique()"
   ]
  },
  {
   "cell_type": "code",
   "execution_count": 12,
   "id": "9bbcc586",
   "metadata": {},
   "outputs": [],
   "source": [
    "# Identificamos variables de grupos innecesarias para nuestro análisis\n",
    "grupos = [\n",
    "    \"PAÍSES AFRICANOS\",\n",
    "    \"PAÍSES ASIÁTICOS\",\n",
    "    \"PAÍSES DE OCEANÍA\",\n",
    "    \"Resto de Países Africanos\",\n",
    "    \"Resto de Países de Oceanía\",\n",
    "    \"UNIÓN EUROPEA (27_2020)\",\n",
    "    \"PAÍSES AMERICANOS\",\n",
    "    \"PAÍSES EUROPEOS\",\n",
    "    \"PAÍSES EUROPEOS NO UE(27_2020)\",\n",
    "    \"Resto de América Central y Caribe\",\n",
    "    \"Resto de América del Sur\",\n",
    "    \"Resto de Países Asiáticos\",\n",
    "    \"Resto de Países Europeos\",\n",
    "    \"AMÉRICA CENTRAL Y CARIBE\",\n",
    "    \"AMÉRICA DEL NORTE\",\n",
    "    \"AMÉRICA DEL SUR\",\n",
    "    \"NACIDOS EN EL EXTRANJERO\",\n",
    "    'EUROPA',\n",
    "    'UNIÓN EUROPEA',\n",
    "    'UE(15)',\n",
    "    'UE(25)',\n",
    "    'UE(27)',\n",
    "    'UE(28)',\n",
    "    'UE(27_2020)',\n",
    "    'EUROPA NO UE(27_2020)',\n",
    "    'Resto de Nacionalidades Europeas',\n",
    "    'ÁFRICA',\n",
    "    'Resto de África',\n",
    "    'AMÉRICA',\n",
    "    'Resto de América Central y Caribe',\n",
    "    'Resto de América del Sur',\n",
    "    'ASIA',\n",
    "    'Resto de Asia',\n",
    "    'OCEANÍA',\n",
    "    'Resto de Oceanía',\n",
    "    'APÁTRIDAS'\n",
    "    ]"
   ]
  },
  {
   "cell_type": "code",
   "execution_count": 31,
   "id": "ae3d4d3f",
   "metadata": {},
   "outputs": [],
   "source": [
    "# Traducimos al inglés los datos para estandarización de los datos\n",
    "trad = {\n",
    "    \"Albania\": \"Albania\",\n",
    "    \"Alemania\": \"Germany\",\n",
    "    \"Arabia Saudí\": \"Saudi Arabia\",\n",
    "    \"Argelia\": \"Algeria\",\n",
    "    \"Belarús\": \"Belarus\",\n",
    "    \"Bélgica\": \"Belgium\",\n",
    "    \"Bosnia y Herzegovina\": \"Bosnia and Herzegovina\",\n",
    "    \"Brasil\": \"Brazil\",\n",
    "    \"Cabo Verde\": \"Cape Verde\",\n",
    "    \"Camerún\": \"Cameroon\",\n",
    "    \"Canadá\": \"Canada\",\n",
    "    \"Chipre\": \"Cyprus\",\n",
    "    \"Corea\": \"Korea\",\n",
    "    \"Croacia\": \"Croatia\",\n",
    "    \"Costa de Marfil\": \"Ivory Coast\",\n",
    "    \"Dinamarca\": \"Denmark\",\n",
    "    \"Egipto\": \"Egypt\",\n",
    "    \"Eslovenia\": \"Slovenia\",\n",
    "    \"Estados Unidos de América\": \"United States of America\",\n",
    "    \"Etiopía\": \"Ethiopia\",\n",
    "    \"Filipinas\": \"Philippines\",\n",
    "    \"Finlandia\": \"Finland\",\n",
    "    \"Francia\": \"France\",\n",
    "    \"Guatemala\": \"Guatemala\",\n",
    "    \"Guinea Ecuatorial\": \"Equatorial Guinea\",\n",
    "    \"Grecia\": \"Greece\",\n",
    "    \"Hungría\": \"Hungary\",\n",
    "    \"Irán\": \"Iran\",\n",
    "    \"Irlanda\": \"Ireland\",\n",
    "    \"Islandia\": \"Iceland\",\n",
    "    \"Italia\": \"Italy\",\n",
    "    \"Japón\": \"Japan\",\n",
    "    \"Jordania\": \"Jordan\",\n",
    "    \"Kazajstán\": \"Kazakhstan\",\n",
    "    \"Kenia\": \"Kenya\",\n",
    "    \"Letonia\": \"Latvia\",\n",
    "    \"Líbano\": \"Lebanon\",\n",
    "    \"Lituania\": \"Lithuania\",\n",
    "    \"Luxemburgo\": \"Luxembourg\",\n",
    "    \"Macedonia del Norte\": \"North Macedonia\",\n",
    "    \"Marruecos\": \"Morocco\",\n",
    "    \"México\": \"Mexico\",\n",
    "    \"Moldavia\": \"Moldova\",\n",
    "    \"NACIDOS EN ESPAÑA\": \"BORN IN SPAIN\",\n",
    "    \"Noruega\": \"Norway\",\n",
    "    \"Nueva Zelanda\": \"New Zealand\",\n",
    "    \"Países Bajos\": \"Netherlands\",\n",
    "    \"Pakistán\": \"Pakistan\",\n",
    "    \"Panamá\": \"Panama\",\n",
    "    \"Perú\": \"Peru\",\n",
    "    \"Polonia\": \"Poland\",\n",
    "    \"Reino Unido\": \"United Kingdom\",\n",
    "    \"República Checa\": \"Czech Republic\",\n",
    "    \"República Democrática del Congo\": \"Democratic Republic of the Congo\",\n",
    "    \"República Dominicana\": \"Dominican Republic\",\n",
    "    \"República Eslovaca\": \"Slovak Republic\",\n",
    "    \"Rumanía\": \"Romania\",\n",
    "    \"Rusia\": \"Russia\",\n",
    "    \"Serbia y Montenegro (Antigua Yugoslavia)\": \"Serbia\",\n",
    "    \"Sierra Leona\": \"Sierra Leone\",\n",
    "    \"Siria\": \"Syria\",\n",
    "    \"Sudáfrica\": \"South Africa\",\n",
    "    \"Suecia\": \"Sweden\",\n",
    "    \"Suiza\": \"Switzerland\",\n",
    "    \"Tailandia\": \"Thailand\",\n",
    "    \"TOTAL POBLACIÓN\": \"TOTAL POPULATION\",\n",
    "    \"TOTAL EXTRANJEROS\": \"TOTAL POPULATION\",\n",
    "    \"Túnez\": \"Tunisia\",\n",
    "    \"Turquía\": \"Turkey\",\n",
    "    \"Ucrania\": \"Ukraine\"\n",
    "}"
   ]
  },
  {
   "cell_type": "code",
   "execution_count": 14,
   "id": "8fcf73a7",
   "metadata": {},
   "outputs": [],
   "source": [
    "# Definimos diccionario con base en estándar ISO3 para estandarización de datos\n",
    "codigo = {\"Albania\": \"ALB\", \n",
    "\"Germany\": \"DEU\", \n",
    "\"Andorra\": \"AND\", \n",
    "\"Angola\": \"AGO\", \n",
    "\"Saudi Arabia\": \"SAU\", \n",
    "\"Algeria\": \"DZA\", \n",
    "\"Argentina\": \"ARG\", \n",
    "\"Armenia\": \"ARM\", \n",
    "\"Australia\": \"AUS\", \n",
    "\"Austria\": \"AUT\", \n",
    "\"Bangladesh\": \"BGD\", \n",
    "\"Belarus\": \"BLR\", \n",
    "\"Belgium\": \"BEL\", \n",
    "\"Benin\": \"BEN\", \n",
    "\"Bolivia\": \"BOL\", \n",
    "\"Bosnia and Herzegovina\": \"BIH\", \n",
    "\"Brazil\": \"BRA\", \n",
    "\"Bulgaria\": \"BGR\", \n",
    "\"Burkina Faso\": \"BFA\", \n",
    "\"Cape Verde\": \"CPV\", \n",
    "\"Cameroon\": \"CMR\", \n",
    "\"Canada\": \"CAN\", \n",
    "\"Chile\": \"CHL\", \n",
    "\"China\": \"CHN\", \n",
    "\"Cyprus\": \"CYP\", \n",
    "\"Colombia\": \"COL\", \n",
    "\"Congo\": \"COG\", \n",
    "\"Korea\": \"KOR\", \n",
    "\"Ivory Coast\": \"CIV\", \n",
    "\"Costa Rica\": \"CRI\", \n",
    "\"Croatia\": \"HRV\", \n",
    "\"Cuba\": \"CUB\", \n",
    "\"Denmark\": \"DNK\", \n",
    "\"Dominica\": \"DMA\", \n",
    "\"Ecuador\": \"ECU\", \n",
    "\"Egypt\": \"EGY\", \n",
    "\"El Salvador\": \"SLV\", \n",
    "\"Slovenia\": \"SVN\", \n",
    "\"United States of America\": \"USA\", \n",
    "\"Estonia\": \"EST\", \n",
    "\"Ethiopia\": \"ETH\", \n",
    "\"Philippines\": \"PHL\", \n",
    "\"Finland\": \"FIN\", \n",
    "\"France\": \"FRA\", \n",
    "\"Gambia\": \"GMB\", \n",
    "\"Georgia\": \"GEO\", \n",
    "\"Ghana\": \"GHA\", \n",
    "\"Greece\": \"GRC\", \n",
    "\"Guatemala\": \"GTM\", \n",
    "\"Equatorial Guinea\": \"GNQ\", \n",
    "\"Guinea\": \"GIN\", \n",
    "\"Guinea-Bissau\": \"GNB\", \n",
    "\"Honduras\": \"HND\", \n",
    "\"Hungary\": \"HUN\", \n",
    "\"India\": \"IND\", \n",
    "\"Indonesia\": \"IDN\", \n",
    "\"Iran\": \"IRN\", \n",
    "\"Iraq\": \"IRQ\", \n",
    "\"Ireland\": \"IRL\", \n",
    "\"Iceland\": \"ISL\", \n",
    "\"Israel\": \"ISR\", \n",
    "\"Italy\": \"ITA\", \n",
    "\"Japan\": \"JPN\", \n",
    "\"Jordan\": \"JOR\", \n",
    "\"Kazakhstan\": \"KAZ\", \n",
    "\"Kenya\": \"KEN\", \n",
    "\"Latvia\": \"LVA\", \n",
    "\"Lebanon\": \"LBN\", \n",
    "\"Liberia\": \"LBR\", \n",
    "\"Liechtenstein\": \"LIE\", \n",
    "\"Lithuania\": \"LTU\", \n",
    "\"Luxembourg\": \"LUX\", \n",
    "\"North Macedonia\": \"MKD\", \n",
    "\"Mali\": \"MLI\", \n",
    "\"Malta\": \"MLT\", \n",
    "\"Morocco\": \"MAR\", \n",
    "\"Mauritania\": \"MRT\", \n",
    "\"Mexico\": \"MEX\", \n",
    "\"Moldova\": \"MDA\", \n",
    "\"BORN IN SPAIN\": \"ESP\", \n",
    "\"Nepal\": \"NPL\", \n",
    "\"Nicaragua\": \"NIC\", \n",
    "\"Nigeria\": \"NGA\", \n",
    "\"Norway\": \"NOR\", \n",
    "\"New Zealand\": \"NZL\", \n",
    "\"Netherlands\": \"NLD\", \n",
    "\"Pakistan\": \"PAK\", \n",
    "\"Panama\": \"PAN\", \n",
    "\"Paraguay\": \"PRY\", \n",
    "\"Peru\": \"PER\", \n",
    "\"Poland\": \"POL\", \n",
    "\"Portugal\": \"PRT\", \n",
    "\"United Kingdom\": \"GBR\", \n",
    "\"Czech Republic\": \"CZE\", \n",
    "\"Democratic Republic of the Congo\": \"COD\", \n",
    "\"Dominican Republic\": \"DOM\", \n",
    "\"Slovak Republic\": \"SVK\", \n",
    "\"Romania\": \"ROU\", \n",
    "\"Russia\": \"RUS\", \n",
    "\"Senegal\": \"SEN\", \n",
    "\"Serbia and Montenegro (Former Yugoslavia)\": \"SRB\", \n",
    "\"Serbia\": \"SRB\", \n",
    "\"Sierra Leone\": \"SLE\", \n",
    "\"Syria\": \"SYR\", \n",
    "\"South Africa\": \"ZAF\", \n",
    "\"Sweden\": \"SWE\", \n",
    "\"Switzerland\": \"CHE\", \n",
    "\"Thailand\": \"THA\", \n",
    "\"Togo\": \"TGO\", \n",
    "\"TOTAL POPULATION\": \"TOTALES\", \n",
    "\"Tunisia\": \"TUN\", \n",
    "\"Turkey\": \"TUR\", \n",
    "\"Ukraine\": \"UKR\", \n",
    "\"Uruguay\": \"URY\", \n",
    "\"Venezuela\": \"VEN\", \n",
    "\"Vietnam\": \"VNM\"\n",
    "}"
   ]
  },
  {
   "cell_type": "code",
   "execution_count": 15,
   "id": "481c91e5",
   "metadata": {},
   "outputs": [],
   "source": [
    "# Copia de seguridad\n",
    "comunidades1 = comunidades.copy()"
   ]
  },
  {
   "cell_type": "code",
   "execution_count": 16,
   "id": "3b5ced73",
   "metadata": {},
   "outputs": [],
   "source": [
    "# Eliminamos variables de grupos\n",
    "comunidades1 = comunidades1[~comunidades1[\"País de Nacimiento\"].isin(grupos)]"
   ]
  },
  {
   "cell_type": "code",
   "execution_count": 17,
   "id": "f0f51326",
   "metadata": {},
   "outputs": [
    {
     "data": {
      "text/html": [
       "<div>\n",
       "<style scoped>\n",
       "    .dataframe tbody tr th:only-of-type {\n",
       "        vertical-align: middle;\n",
       "    }\n",
       "\n",
       "    .dataframe tbody tr th {\n",
       "        vertical-align: top;\n",
       "    }\n",
       "\n",
       "    .dataframe thead th {\n",
       "        text-align: right;\n",
       "    }\n",
       "</style>\n",
       "<table border=\"1\" class=\"dataframe\">\n",
       "  <thead>\n",
       "    <tr style=\"text-align: right;\">\n",
       "      <th></th>\n",
       "      <th>Comunidades</th>\n",
       "      <th>País de Nacimiento</th>\n",
       "      <th>Español/Extranjero</th>\n",
       "      <th>Sexo</th>\n",
       "      <th>Año</th>\n",
       "      <th>Total</th>\n",
       "    </tr>\n",
       "  </thead>\n",
       "  <tbody>\n",
       "    <tr>\n",
       "      <th>0</th>\n",
       "      <td>Total Nacional</td>\n",
       "      <td>TOTAL POBLACIÓN</td>\n",
       "      <td>TOTAL</td>\n",
       "      <td>Ambos sexos</td>\n",
       "      <td>2022</td>\n",
       "      <td>47475420</td>\n",
       "    </tr>\n",
       "    <tr>\n",
       "      <th>1</th>\n",
       "      <td>Total Nacional</td>\n",
       "      <td>TOTAL POBLACIÓN</td>\n",
       "      <td>TOTAL</td>\n",
       "      <td>Ambos sexos</td>\n",
       "      <td>2021</td>\n",
       "      <td>47385107</td>\n",
       "    </tr>\n",
       "    <tr>\n",
       "      <th>2</th>\n",
       "      <td>Total Nacional</td>\n",
       "      <td>TOTAL POBLACIÓN</td>\n",
       "      <td>TOTAL</td>\n",
       "      <td>Ambos sexos</td>\n",
       "      <td>2020</td>\n",
       "      <td>47450795</td>\n",
       "    </tr>\n",
       "    <tr>\n",
       "      <th>3</th>\n",
       "      <td>Total Nacional</td>\n",
       "      <td>TOTAL POBLACIÓN</td>\n",
       "      <td>TOTAL</td>\n",
       "      <td>Ambos sexos</td>\n",
       "      <td>2019</td>\n",
       "      <td>47026208</td>\n",
       "    </tr>\n",
       "    <tr>\n",
       "      <th>4</th>\n",
       "      <td>Total Nacional</td>\n",
       "      <td>TOTAL POBLACIÓN</td>\n",
       "      <td>TOTAL</td>\n",
       "      <td>Ambos sexos</td>\n",
       "      <td>2018</td>\n",
       "      <td>46722980</td>\n",
       "    </tr>\n",
       "    <tr>\n",
       "      <th>...</th>\n",
       "      <td>...</td>\n",
       "      <td>...</td>\n",
       "      <td>...</td>\n",
       "      <td>...</td>\n",
       "      <td>...</td>\n",
       "      <td>...</td>\n",
       "    </tr>\n",
       "    <tr>\n",
       "      <th>598270</th>\n",
       "      <td>19 Melilla</td>\n",
       "      <td>Nueva Zelanda</td>\n",
       "      <td>Nacionalidad Extranjera</td>\n",
       "      <td>Mujeres</td>\n",
       "      <td>2002</td>\n",
       "      <td>0</td>\n",
       "    </tr>\n",
       "    <tr>\n",
       "      <th>598271</th>\n",
       "      <td>19 Melilla</td>\n",
       "      <td>Nueva Zelanda</td>\n",
       "      <td>Nacionalidad Extranjera</td>\n",
       "      <td>Mujeres</td>\n",
       "      <td>2001</td>\n",
       "      <td>0</td>\n",
       "    </tr>\n",
       "    <tr>\n",
       "      <th>598272</th>\n",
       "      <td>19 Melilla</td>\n",
       "      <td>Nueva Zelanda</td>\n",
       "      <td>Nacionalidad Extranjera</td>\n",
       "      <td>Mujeres</td>\n",
       "      <td>2000</td>\n",
       "      <td>0</td>\n",
       "    </tr>\n",
       "    <tr>\n",
       "      <th>598273</th>\n",
       "      <td>19 Melilla</td>\n",
       "      <td>Nueva Zelanda</td>\n",
       "      <td>Nacionalidad Extranjera</td>\n",
       "      <td>Mujeres</td>\n",
       "      <td>1999</td>\n",
       "      <td>0</td>\n",
       "    </tr>\n",
       "    <tr>\n",
       "      <th>598274</th>\n",
       "      <td>19 Melilla</td>\n",
       "      <td>Nueva Zelanda</td>\n",
       "      <td>Nacionalidad Extranjera</td>\n",
       "      <td>Mujeres</td>\n",
       "      <td>1998</td>\n",
       "      <td>0</td>\n",
       "    </tr>\n",
       "  </tbody>\n",
       "</table>\n",
       "<p>522000 rows × 6 columns</p>\n",
       "</div>"
      ],
      "text/plain": [
       "           Comunidades País de Nacimiento       Español/Extranjero  \\\n",
       "0       Total Nacional    TOTAL POBLACIÓN                    TOTAL   \n",
       "1       Total Nacional    TOTAL POBLACIÓN                    TOTAL   \n",
       "2       Total Nacional    TOTAL POBLACIÓN                    TOTAL   \n",
       "3       Total Nacional    TOTAL POBLACIÓN                    TOTAL   \n",
       "4       Total Nacional    TOTAL POBLACIÓN                    TOTAL   \n",
       "...                ...                ...                      ...   \n",
       "598270      19 Melilla      Nueva Zelanda  Nacionalidad Extranjera   \n",
       "598271      19 Melilla      Nueva Zelanda  Nacionalidad Extranjera   \n",
       "598272      19 Melilla      Nueva Zelanda  Nacionalidad Extranjera   \n",
       "598273      19 Melilla      Nueva Zelanda  Nacionalidad Extranjera   \n",
       "598274      19 Melilla      Nueva Zelanda  Nacionalidad Extranjera   \n",
       "\n",
       "               Sexo   Año     Total  \n",
       "0       Ambos sexos  2022  47475420  \n",
       "1       Ambos sexos  2021  47385107  \n",
       "2       Ambos sexos  2020  47450795  \n",
       "3       Ambos sexos  2019  47026208  \n",
       "4       Ambos sexos  2018  46722980  \n",
       "...             ...   ...       ...  \n",
       "598270      Mujeres  2002         0  \n",
       "598271      Mujeres  2001         0  \n",
       "598272      Mujeres  2000         0  \n",
       "598273      Mujeres  1999         0  \n",
       "598274      Mujeres  1998         0  \n",
       "\n",
       "[522000 rows x 6 columns]"
      ]
     },
     "execution_count": 17,
     "metadata": {},
     "output_type": "execute_result"
    }
   ],
   "source": [
    "# Comprobamos extensión\n",
    "comunidades1"
   ]
  },
  {
   "cell_type": "code",
   "execution_count": 18,
   "id": "9c91546f",
   "metadata": {},
   "outputs": [],
   "source": [
    "# Traducimos países al inglés para estandarización del proyecto\n",
    "# Aquellos países que sean igual en inglés y español, se pasan como tal\n",
    "comunidades1[\"Country\"] = comunidades1[\"País de Nacimiento\"].map(trad)\n",
    "comunidades1[\"Country\"] = comunidades1[\"Country\"].fillna(comunidades[\"País de Nacimiento\"])"
   ]
  },
  {
   "cell_type": "code",
   "execution_count": 19,
   "id": "9173656c",
   "metadata": {},
   "outputs": [
    {
     "data": {
      "text/plain": [
       "array(['TOTAL POPULATION', 'BORN IN SPAIN', 'Germany', 'Austria',\n",
       "       'Belgium', 'Bulgaria', 'Cyprus', 'Croatia', 'Denmark', 'Slovenia',\n",
       "       'Estonia', 'Finland', 'France', 'Greece', 'Hungary', 'Ireland',\n",
       "       'Italy', 'Latvia', 'Lithuania', 'Luxembourg', 'Malta',\n",
       "       'Netherlands', 'Poland', 'Portugal', 'Czech Republic',\n",
       "       'Slovak Republic', 'Romania', 'Sweden', 'Albania', 'Andorra',\n",
       "       'Armenia', 'Belarus', 'Bosnia and Herzegovina', 'Georgia',\n",
       "       'Iceland', 'Liechtenstein', 'North Macedonia', 'Moldova', 'Norway',\n",
       "       'United Kingdom', 'Russia', 'Serbia', 'Switzerland', 'Turkey',\n",
       "       'Ukraine', 'Angola', 'Algeria', 'Benin', 'Burkina Faso',\n",
       "       'Cape Verde', 'Cameroon', 'Congo', 'Ivory Coast', 'Egypt',\n",
       "       'Ethiopia', 'Gambia', 'Ghana', 'Guinea', 'Equatorial Guinea',\n",
       "       'Guinea-Bissau', 'Kenya', 'Liberia', 'Mali', 'Morocco',\n",
       "       'Mauritania', 'Nigeria', 'Democratic Republic of the Congo',\n",
       "       'Senegal', 'Sierra Leone', 'South Africa', 'Togo', 'Tunisia',\n",
       "       'Costa Rica', 'Cuba', 'Dominica', 'El Salvador', 'Guatemala',\n",
       "       'Honduras', 'Nicaragua', 'Panama', 'Dominican Republic', 'Canada',\n",
       "       'United States of America', 'Mexico', 'Argentina', 'Bolivia',\n",
       "       'Brazil', 'Chile', 'Colombia', 'Ecuador', 'Paraguay', 'Peru',\n",
       "       'Uruguay', 'Venezuela', 'Saudi Arabia', 'Bangladesh', 'China',\n",
       "       'Korea', 'Philippines', 'India', 'Indonesia', 'Iran', 'Iraq',\n",
       "       'Israel', 'Japan', 'Jordan', 'Kazakhstan', 'Lebanon', 'Nepal',\n",
       "       'Pakistan', 'Syria', 'Thailand', 'Vietnam', 'Australia',\n",
       "       'New Zealand'], dtype=object)"
      ]
     },
     "execution_count": 19,
     "metadata": {},
     "output_type": "execute_result"
    }
   ],
   "source": [
    "# Damos lectura a los países que existen en nuestros datos\n",
    "comunidades1[\"Country\"].unique()"
   ]
  },
  {
   "cell_type": "code",
   "execution_count": 20,
   "id": "5e5aa196",
   "metadata": {},
   "outputs": [],
   "source": [
    "# Mapeamos código de países\n",
    "comunidades1[\"Country Code\"] = comunidades1[\"Country\"].map(codigo)"
   ]
  },
  {
   "cell_type": "code",
   "execution_count": 21,
   "id": "2a2aebf9",
   "metadata": {},
   "outputs": [
    {
     "data": {
      "text/plain": [
       "0"
      ]
     },
     "execution_count": 21,
     "metadata": {},
     "output_type": "execute_result"
    }
   ],
   "source": [
    "# Comprobamos existencia de nulos en los códigos\n",
    "comunidades1[\"Country Code\"].isnull().sum()"
   ]
  },
  {
   "cell_type": "code",
   "execution_count": 22,
   "id": "5e1455b2",
   "metadata": {},
   "outputs": [
    {
     "data": {
      "text/plain": [
       "array([], dtype=object)"
      ]
     },
     "execution_count": 22,
     "metadata": {},
     "output_type": "execute_result"
    }
   ],
   "source": [
    "comunidades1.loc[comunidades1[\"Country Code\"].isnull()][\"Country\"].unique()"
   ]
  },
  {
   "cell_type": "markdown",
   "id": "40f83969",
   "metadata": {},
   "source": [
    "### Trabajo en archivo \"nacional\""
   ]
  },
  {
   "cell_type": "code",
   "execution_count": 23,
   "id": "d336e853",
   "metadata": {},
   "outputs": [
    {
     "data": {
      "text/plain": [
       "array(['TOTAL EXTRANJEROS', 'EUROPA', 'UNIÓN EUROPEA', 'UE(15)', 'UE(25)',\n",
       "       'UE(27)', 'UE(28)', 'UE(27_2020)', 'Alemania', 'Austria',\n",
       "       'Bélgica', 'Bulgaria', 'Chipre', 'Croacia', 'Dinamarca',\n",
       "       'Eslovenia', 'Estonia', 'Finlandia', 'Francia', 'Grecia',\n",
       "       'Hungría', 'Irlanda', 'Italia', 'Letonia', 'Lituania',\n",
       "       'Luxemburgo', 'Malta', 'Países Bajos', 'Polonia', 'Portugal',\n",
       "       'República Checa', 'República Eslovaca', 'Rumanía', 'Suecia',\n",
       "       'EUROPA NO UE(27_2020)', 'Albania', 'Andorra', 'Armenia',\n",
       "       'Belarús', 'Bosnia y Herzegovina', 'Georgia', 'Islandia',\n",
       "       'Liechtenstein', 'Macedonia del Norte', 'Moldavia', 'Noruega',\n",
       "       'Reino Unido', 'Rusia', 'Serbia y Montenegro (Antigua Yugoslavia)',\n",
       "       'Serbia', 'Suiza', 'Turquía', 'Ucrania',\n",
       "       'Resto de Nacionalidades Europeas', 'ÁFRICA', 'Angola', 'Argelia',\n",
       "       'Benin', 'Burkina Faso', 'Cabo Verde', 'Camerún', 'Congo',\n",
       "       'Costa de Marfil', 'Egipto', 'Etiopía', 'Gambia', 'Ghana',\n",
       "       'Guinea', 'Guinea Ecuatorial', 'Guinea-Bissau', 'Kenia', 'Liberia',\n",
       "       'Mali', 'Marruecos', 'Mauritania', 'Nigeria',\n",
       "       'República Democrática del Congo', 'Senegal', 'Sierra Leona',\n",
       "       'Sudáfrica', 'Togo', 'Túnez', 'Resto de África', 'AMÉRICA',\n",
       "       'AMÉRICA CENTRAL Y CARIBE', 'Costa Rica', 'Cuba', 'Dominica',\n",
       "       'El Salvador', 'Guatemala', 'Honduras', 'Nicaragua', 'Panamá',\n",
       "       'República Dominicana', 'Resto de América Central y Caribe',\n",
       "       'AMÉRICA DEL NORTE', 'Canadá', 'Estados Unidos de América',\n",
       "       'México', 'AMÉRICA DEL SUR', 'Argentina', 'Bolivia', 'Brasil',\n",
       "       'Chile', 'Colombia', 'Ecuador', 'Paraguay', 'Perú', 'Uruguay',\n",
       "       'Venezuela', 'Resto de América del Sur', 'ASIA', 'Arabia Saudí',\n",
       "       'Bangladesh', 'China', 'Corea', 'Filipinas', 'India', 'Indonesia',\n",
       "       'Irán', 'Iraq', 'Israel', 'Japón', 'Jordania', 'Kazajstán',\n",
       "       'Líbano', 'Nepal', 'Pakistán', 'Siria', 'Tailandia', 'Vietnam',\n",
       "       'Resto de Asia', 'OCEANÍA', 'Australia', 'Nueva Zelanda',\n",
       "       'Resto de Oceanía', 'APÁTRIDAS'], dtype=object)"
      ]
     },
     "execution_count": 23,
     "metadata": {},
     "output_type": "execute_result"
    }
   ],
   "source": [
    "nacional.Nacionalidad.unique()"
   ]
  },
  {
   "cell_type": "code",
   "execution_count": 24,
   "id": "f97096cb",
   "metadata": {},
   "outputs": [
    {
     "data": {
      "text/plain": [
       "Nacionalidad    object\n",
       "Sexo            object\n",
       "Año              int64\n",
       "Total           object\n",
       "dtype: object"
      ]
     },
     "execution_count": 24,
     "metadata": {},
     "output_type": "execute_result"
    }
   ],
   "source": [
    "nacional.dtypes"
   ]
  },
  {
   "cell_type": "code",
   "execution_count": 25,
   "id": "5339d7c9",
   "metadata": {},
   "outputs": [
    {
     "name": "stderr",
     "output_type": "stream",
     "text": [
      "C:\\Users\\erick\\AppData\\Local\\Temp\\ipykernel_16672\\1705393748.py:1: FutureWarning: The default value of regex will change from True to False in a future version. In addition, single character regular expressions will *not* be treated as literal strings when regex=True.\n",
      "  nacional['Total'] = nacional['Total'].str.replace('.', '')\n"
     ]
    }
   ],
   "source": [
    "nacional['Total'] = nacional['Total'].str.replace('.', '')"
   ]
  },
  {
   "cell_type": "code",
   "execution_count": 26,
   "id": "1545bbae",
   "metadata": {},
   "outputs": [],
   "source": [
    "nacional.Nacionalidad = nacional.Nacionalidad.astype(\"string\")\n",
    "nacional.Sexo = nacional.Sexo.astype(\"string\")\n",
    "nacional.Total = nacional.Total.astype(\"int\")"
   ]
  },
  {
   "cell_type": "code",
   "execution_count": 27,
   "id": "6cde7dd6",
   "metadata": {},
   "outputs": [],
   "source": [
    "nacional1 = nacional.copy()"
   ]
  },
  {
   "cell_type": "code",
   "execution_count": 28,
   "id": "19410adb",
   "metadata": {},
   "outputs": [],
   "source": [
    "# Eliminamos variables de grupos\n",
    "nacional1 = nacional1[~nacional1[\"Nacionalidad\"].isin(grupos)]"
   ]
  },
  {
   "cell_type": "code",
   "execution_count": 43,
   "id": "a77bfc04",
   "metadata": {},
   "outputs": [],
   "source": [
    "nacional1[\"Country\"] = nacional1[\"Nacionalidad\"].map(trad)\n",
    "nacional1[\"Country\"] = nacional1[\"Country\"].fillna(nacional[\"Nacionalidad\"])"
   ]
  },
  {
   "cell_type": "code",
   "execution_count": 45,
   "id": "2198825a",
   "metadata": {},
   "outputs": [],
   "source": [
    "# Mapeamos código de países\n",
    "nacional1[\"Country Code\"] = nacional1[\"Country\"].map(codigo)"
   ]
  },
  {
   "cell_type": "code",
   "execution_count": 46,
   "id": "cbd3c1d8",
   "metadata": {},
   "outputs": [
    {
     "data": {
      "text/plain": [
       "0"
      ]
     },
     "execution_count": 46,
     "metadata": {},
     "output_type": "execute_result"
    }
   ],
   "source": [
    "# Comprobamos existencia de nulos en los códigos\n",
    "comunidades1[\"Country Code\"].isnull().sum()"
   ]
  },
  {
   "cell_type": "code",
   "execution_count": 48,
   "id": "7c8fa653",
   "metadata": {},
   "outputs": [
    {
     "data": {
      "text/plain": [
       "array([], dtype=object)"
      ]
     },
     "execution_count": 48,
     "metadata": {},
     "output_type": "execute_result"
    }
   ],
   "source": [
    "nacional1.loc[nacional1[\"Country Code\"].isnull()][\"Country\"].unique()"
   ]
  },
  {
   "cell_type": "code",
   "execution_count": 49,
   "id": "460ad6da",
   "metadata": {},
   "outputs": [
    {
     "data": {
      "text/html": [
       "<div>\n",
       "<style scoped>\n",
       "    .dataframe tbody tr th:only-of-type {\n",
       "        vertical-align: middle;\n",
       "    }\n",
       "\n",
       "    .dataframe tbody tr th {\n",
       "        vertical-align: top;\n",
       "    }\n",
       "\n",
       "    .dataframe thead th {\n",
       "        text-align: right;\n",
       "    }\n",
       "</style>\n",
       "<table border=\"1\" class=\"dataframe\">\n",
       "  <thead>\n",
       "    <tr style=\"text-align: right;\">\n",
       "      <th></th>\n",
       "      <th>Nacionalidad</th>\n",
       "      <th>Sexo</th>\n",
       "      <th>Año</th>\n",
       "      <th>Total</th>\n",
       "    </tr>\n",
       "  </thead>\n",
       "  <tbody>\n",
       "    <tr>\n",
       "      <th>0</th>\n",
       "      <td>TOTAL EXTRANJEROS</td>\n",
       "      <td>Ambos sexos</td>\n",
       "      <td>2022</td>\n",
       "      <td>5542932</td>\n",
       "    </tr>\n",
       "    <tr>\n",
       "      <th>1</th>\n",
       "      <td>TOTAL EXTRANJEROS</td>\n",
       "      <td>Ambos sexos</td>\n",
       "      <td>2021</td>\n",
       "      <td>5440148</td>\n",
       "    </tr>\n",
       "    <tr>\n",
       "      <th>2</th>\n",
       "      <td>TOTAL EXTRANJEROS</td>\n",
       "      <td>Ambos sexos</td>\n",
       "      <td>2020</td>\n",
       "      <td>5434153</td>\n",
       "    </tr>\n",
       "    <tr>\n",
       "      <th>3</th>\n",
       "      <td>TOTAL EXTRANJEROS</td>\n",
       "      <td>Ambos sexos</td>\n",
       "      <td>2019</td>\n",
       "      <td>5036878</td>\n",
       "    </tr>\n",
       "    <tr>\n",
       "      <th>4</th>\n",
       "      <td>TOTAL EXTRANJEROS</td>\n",
       "      <td>Ambos sexos</td>\n",
       "      <td>2018</td>\n",
       "      <td>4734691</td>\n",
       "    </tr>\n",
       "    <tr>\n",
       "      <th>...</th>\n",
       "      <td>...</td>\n",
       "      <td>...</td>\n",
       "      <td>...</td>\n",
       "      <td>...</td>\n",
       "    </tr>\n",
       "    <tr>\n",
       "      <th>10270</th>\n",
       "      <td>APÁTRIDAS</td>\n",
       "      <td>Mujeres</td>\n",
       "      <td>2002</td>\n",
       "      <td>166</td>\n",
       "    </tr>\n",
       "    <tr>\n",
       "      <th>10271</th>\n",
       "      <td>APÁTRIDAS</td>\n",
       "      <td>Mujeres</td>\n",
       "      <td>2001</td>\n",
       "      <td>131</td>\n",
       "    </tr>\n",
       "    <tr>\n",
       "      <th>10272</th>\n",
       "      <td>APÁTRIDAS</td>\n",
       "      <td>Mujeres</td>\n",
       "      <td>2000</td>\n",
       "      <td>111</td>\n",
       "    </tr>\n",
       "    <tr>\n",
       "      <th>10273</th>\n",
       "      <td>APÁTRIDAS</td>\n",
       "      <td>Mujeres</td>\n",
       "      <td>1999</td>\n",
       "      <td>85</td>\n",
       "    </tr>\n",
       "    <tr>\n",
       "      <th>10274</th>\n",
       "      <td>APÁTRIDAS</td>\n",
       "      <td>Mujeres</td>\n",
       "      <td>1998</td>\n",
       "      <td>82</td>\n",
       "    </tr>\n",
       "  </tbody>\n",
       "</table>\n",
       "<p>10275 rows × 4 columns</p>\n",
       "</div>"
      ],
      "text/plain": [
       "            Nacionalidad         Sexo   Año    Total\n",
       "0      TOTAL EXTRANJEROS  Ambos sexos  2022  5542932\n",
       "1      TOTAL EXTRANJEROS  Ambos sexos  2021  5440148\n",
       "2      TOTAL EXTRANJEROS  Ambos sexos  2020  5434153\n",
       "3      TOTAL EXTRANJEROS  Ambos sexos  2019  5036878\n",
       "4      TOTAL EXTRANJEROS  Ambos sexos  2018  4734691\n",
       "...                  ...          ...   ...      ...\n",
       "10270          APÁTRIDAS      Mujeres  2002      166\n",
       "10271          APÁTRIDAS      Mujeres  2001      131\n",
       "10272          APÁTRIDAS      Mujeres  2000      111\n",
       "10273          APÁTRIDAS      Mujeres  1999       85\n",
       "10274          APÁTRIDAS      Mujeres  1998       82\n",
       "\n",
       "[10275 rows x 4 columns]"
      ]
     },
     "execution_count": 49,
     "metadata": {},
     "output_type": "execute_result"
    }
   ],
   "source": [
    "nacional"
   ]
  }
 ],
 "metadata": {
  "kernelspec": {
   "display_name": "Python 3 (ipykernel)",
   "language": "python",
   "name": "python3"
  },
  "language_info": {
   "codemirror_mode": {
    "name": "ipython",
    "version": 3
   },
   "file_extension": ".py",
   "mimetype": "text/x-python",
   "name": "python",
   "nbconvert_exporter": "python",
   "pygments_lexer": "ipython3",
   "version": "3.10.9"
  }
 },
 "nbformat": 4,
 "nbformat_minor": 5
}
