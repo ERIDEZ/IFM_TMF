{
 "cells": [
  {
   "cell_type": "markdown",
   "id": "19c606a5",
   "metadata": {},
   "source": [
    "## ETAPA 2: TRABAJO EN VARIABLES EXPLICATIVAS"
   ]
  },
  {
   "cell_type": "code",
   "execution_count": 1,
   "id": "7e23e2cc",
   "metadata": {},
   "outputs": [],
   "source": [
    "# Dependencias básicas\n",
    "import pandas as pd\n",
    "import numpy as np\n",
    "\n",
    "# Dependencias de visualización\n",
    "from matplotlib import pyplot as plt\n",
    "import seaborn as sns\n",
    "import altair as alt\n",
    "import plotly.express as px\n",
    "import plotly.graph_objects as go\n",
    "from ipywidgets import interact"
   ]
  },
  {
   "cell_type": "code",
   "execution_count": 2,
   "id": "bedb98cd",
   "metadata": {},
   "outputs": [],
   "source": [
    "nacional = pd.read_csv(\"../10 - Padron 1998 - 2022 (nacional y comunidades)/Nacional/01005.csv\", sep=\";\")"
   ]
  },
  {
   "cell_type": "code",
   "execution_count": 3,
   "id": "bc2988a2",
   "metadata": {},
   "outputs": [],
   "source": [
    "comunidades = pd.read_excel(\"../10 - Padron 1998 - 2022 (nacional y comunidades)/Comunidades/02006.xlsx\")"
   ]
  },
  {
   "cell_type": "code",
   "execution_count": 4,
   "id": "0eddc8b3",
   "metadata": {},
   "outputs": [
    {
     "data": {
      "text/html": [
       "<div>\n",
       "<style scoped>\n",
       "    .dataframe tbody tr th:only-of-type {\n",
       "        vertical-align: middle;\n",
       "    }\n",
       "\n",
       "    .dataframe tbody tr th {\n",
       "        vertical-align: top;\n",
       "    }\n",
       "\n",
       "    .dataframe thead th {\n",
       "        text-align: right;\n",
       "    }\n",
       "</style>\n",
       "<table border=\"1\" class=\"dataframe\">\n",
       "  <thead>\n",
       "    <tr style=\"text-align: right;\">\n",
       "      <th></th>\n",
       "      <th>Nacionalidad</th>\n",
       "      <th>Sexo</th>\n",
       "      <th>Año</th>\n",
       "      <th>Total</th>\n",
       "    </tr>\n",
       "  </thead>\n",
       "  <tbody>\n",
       "    <tr>\n",
       "      <th>0</th>\n",
       "      <td>TOTAL EXTRANJEROS</td>\n",
       "      <td>Ambos sexos</td>\n",
       "      <td>2022</td>\n",
       "      <td>5.542.932</td>\n",
       "    </tr>\n",
       "    <tr>\n",
       "      <th>1</th>\n",
       "      <td>TOTAL EXTRANJEROS</td>\n",
       "      <td>Ambos sexos</td>\n",
       "      <td>2021</td>\n",
       "      <td>5.440.148</td>\n",
       "    </tr>\n",
       "    <tr>\n",
       "      <th>2</th>\n",
       "      <td>TOTAL EXTRANJEROS</td>\n",
       "      <td>Ambos sexos</td>\n",
       "      <td>2020</td>\n",
       "      <td>5.434.153</td>\n",
       "    </tr>\n",
       "    <tr>\n",
       "      <th>3</th>\n",
       "      <td>TOTAL EXTRANJEROS</td>\n",
       "      <td>Ambos sexos</td>\n",
       "      <td>2019</td>\n",
       "      <td>5.036.878</td>\n",
       "    </tr>\n",
       "    <tr>\n",
       "      <th>4</th>\n",
       "      <td>TOTAL EXTRANJEROS</td>\n",
       "      <td>Ambos sexos</td>\n",
       "      <td>2018</td>\n",
       "      <td>4.734.691</td>\n",
       "    </tr>\n",
       "    <tr>\n",
       "      <th>...</th>\n",
       "      <td>...</td>\n",
       "      <td>...</td>\n",
       "      <td>...</td>\n",
       "      <td>...</td>\n",
       "    </tr>\n",
       "    <tr>\n",
       "      <th>10270</th>\n",
       "      <td>APÁTRIDAS</td>\n",
       "      <td>Mujeres</td>\n",
       "      <td>2002</td>\n",
       "      <td>166</td>\n",
       "    </tr>\n",
       "    <tr>\n",
       "      <th>10271</th>\n",
       "      <td>APÁTRIDAS</td>\n",
       "      <td>Mujeres</td>\n",
       "      <td>2001</td>\n",
       "      <td>131</td>\n",
       "    </tr>\n",
       "    <tr>\n",
       "      <th>10272</th>\n",
       "      <td>APÁTRIDAS</td>\n",
       "      <td>Mujeres</td>\n",
       "      <td>2000</td>\n",
       "      <td>111</td>\n",
       "    </tr>\n",
       "    <tr>\n",
       "      <th>10273</th>\n",
       "      <td>APÁTRIDAS</td>\n",
       "      <td>Mujeres</td>\n",
       "      <td>1999</td>\n",
       "      <td>85</td>\n",
       "    </tr>\n",
       "    <tr>\n",
       "      <th>10274</th>\n",
       "      <td>APÁTRIDAS</td>\n",
       "      <td>Mujeres</td>\n",
       "      <td>1998</td>\n",
       "      <td>82</td>\n",
       "    </tr>\n",
       "  </tbody>\n",
       "</table>\n",
       "<p>10275 rows × 4 columns</p>\n",
       "</div>"
      ],
      "text/plain": [
       "            Nacionalidad         Sexo   Año      Total\n",
       "0      TOTAL EXTRANJEROS  Ambos sexos  2022  5.542.932\n",
       "1      TOTAL EXTRANJEROS  Ambos sexos  2021  5.440.148\n",
       "2      TOTAL EXTRANJEROS  Ambos sexos  2020  5.434.153\n",
       "3      TOTAL EXTRANJEROS  Ambos sexos  2019  5.036.878\n",
       "4      TOTAL EXTRANJEROS  Ambos sexos  2018  4.734.691\n",
       "...                  ...          ...   ...        ...\n",
       "10270          APÁTRIDAS      Mujeres  2002        166\n",
       "10271          APÁTRIDAS      Mujeres  2001        131\n",
       "10272          APÁTRIDAS      Mujeres  2000        111\n",
       "10273          APÁTRIDAS      Mujeres  1999         85\n",
       "10274          APÁTRIDAS      Mujeres  1998         82\n",
       "\n",
       "[10275 rows x 4 columns]"
      ]
     },
     "execution_count": 4,
     "metadata": {},
     "output_type": "execute_result"
    }
   ],
   "source": [
    "nacional"
   ]
  },
  {
   "cell_type": "code",
   "execution_count": 5,
   "id": "f5801b91",
   "metadata": {},
   "outputs": [
    {
     "data": {
      "text/html": [
       "<div>\n",
       "<style scoped>\n",
       "    .dataframe tbody tr th:only-of-type {\n",
       "        vertical-align: middle;\n",
       "    }\n",
       "\n",
       "    .dataframe tbody tr th {\n",
       "        vertical-align: top;\n",
       "    }\n",
       "\n",
       "    .dataframe thead th {\n",
       "        text-align: right;\n",
       "    }\n",
       "</style>\n",
       "<table border=\"1\" class=\"dataframe\">\n",
       "  <thead>\n",
       "    <tr style=\"text-align: right;\">\n",
       "      <th></th>\n",
       "      <th>Comunidades</th>\n",
       "      <th>País de Nacimiento</th>\n",
       "      <th>Español/Extranjero</th>\n",
       "      <th>Sexo</th>\n",
       "      <th>Año</th>\n",
       "      <th>Total</th>\n",
       "    </tr>\n",
       "  </thead>\n",
       "  <tbody>\n",
       "    <tr>\n",
       "      <th>0</th>\n",
       "      <td>Total Nacional</td>\n",
       "      <td>TOTAL POBLACIÓN</td>\n",
       "      <td>TOTAL</td>\n",
       "      <td>Ambos sexos</td>\n",
       "      <td>2022</td>\n",
       "      <td>47.475.420</td>\n",
       "    </tr>\n",
       "    <tr>\n",
       "      <th>1</th>\n",
       "      <td>Total Nacional</td>\n",
       "      <td>TOTAL POBLACIÓN</td>\n",
       "      <td>TOTAL</td>\n",
       "      <td>Ambos sexos</td>\n",
       "      <td>2021</td>\n",
       "      <td>47.385.107</td>\n",
       "    </tr>\n",
       "    <tr>\n",
       "      <th>2</th>\n",
       "      <td>Total Nacional</td>\n",
       "      <td>TOTAL POBLACIÓN</td>\n",
       "      <td>TOTAL</td>\n",
       "      <td>Ambos sexos</td>\n",
       "      <td>2020</td>\n",
       "      <td>47.450.795</td>\n",
       "    </tr>\n",
       "    <tr>\n",
       "      <th>3</th>\n",
       "      <td>Total Nacional</td>\n",
       "      <td>TOTAL POBLACIÓN</td>\n",
       "      <td>TOTAL</td>\n",
       "      <td>Ambos sexos</td>\n",
       "      <td>2019</td>\n",
       "      <td>47.026.208</td>\n",
       "    </tr>\n",
       "    <tr>\n",
       "      <th>4</th>\n",
       "      <td>Total Nacional</td>\n",
       "      <td>TOTAL POBLACIÓN</td>\n",
       "      <td>TOTAL</td>\n",
       "      <td>Ambos sexos</td>\n",
       "      <td>2018</td>\n",
       "      <td>46.722.980</td>\n",
       "    </tr>\n",
       "    <tr>\n",
       "      <th>...</th>\n",
       "      <td>...</td>\n",
       "      <td>...</td>\n",
       "      <td>...</td>\n",
       "      <td>...</td>\n",
       "      <td>...</td>\n",
       "      <td>...</td>\n",
       "    </tr>\n",
       "    <tr>\n",
       "      <th>598495</th>\n",
       "      <td>19 Melilla</td>\n",
       "      <td>Resto de Países de Oceanía</td>\n",
       "      <td>Nacionalidad Extranjera</td>\n",
       "      <td>Mujeres</td>\n",
       "      <td>2002</td>\n",
       "      <td>0</td>\n",
       "    </tr>\n",
       "    <tr>\n",
       "      <th>598496</th>\n",
       "      <td>19 Melilla</td>\n",
       "      <td>Resto de Países de Oceanía</td>\n",
       "      <td>Nacionalidad Extranjera</td>\n",
       "      <td>Mujeres</td>\n",
       "      <td>2001</td>\n",
       "      <td>0</td>\n",
       "    </tr>\n",
       "    <tr>\n",
       "      <th>598497</th>\n",
       "      <td>19 Melilla</td>\n",
       "      <td>Resto de Países de Oceanía</td>\n",
       "      <td>Nacionalidad Extranjera</td>\n",
       "      <td>Mujeres</td>\n",
       "      <td>2000</td>\n",
       "      <td>0</td>\n",
       "    </tr>\n",
       "    <tr>\n",
       "      <th>598498</th>\n",
       "      <td>19 Melilla</td>\n",
       "      <td>Resto de Países de Oceanía</td>\n",
       "      <td>Nacionalidad Extranjera</td>\n",
       "      <td>Mujeres</td>\n",
       "      <td>1999</td>\n",
       "      <td>0</td>\n",
       "    </tr>\n",
       "    <tr>\n",
       "      <th>598499</th>\n",
       "      <td>19 Melilla</td>\n",
       "      <td>Resto de Países de Oceanía</td>\n",
       "      <td>Nacionalidad Extranjera</td>\n",
       "      <td>Mujeres</td>\n",
       "      <td>1998</td>\n",
       "      <td>0</td>\n",
       "    </tr>\n",
       "  </tbody>\n",
       "</table>\n",
       "<p>598500 rows × 6 columns</p>\n",
       "</div>"
      ],
      "text/plain": [
       "           Comunidades          País de Nacimiento       Español/Extranjero  \\\n",
       "0       Total Nacional             TOTAL POBLACIÓN                    TOTAL   \n",
       "1       Total Nacional             TOTAL POBLACIÓN                    TOTAL   \n",
       "2       Total Nacional             TOTAL POBLACIÓN                    TOTAL   \n",
       "3       Total Nacional             TOTAL POBLACIÓN                    TOTAL   \n",
       "4       Total Nacional             TOTAL POBLACIÓN                    TOTAL   \n",
       "...                ...                         ...                      ...   \n",
       "598495      19 Melilla  Resto de Países de Oceanía  Nacionalidad Extranjera   \n",
       "598496      19 Melilla  Resto de Países de Oceanía  Nacionalidad Extranjera   \n",
       "598497      19 Melilla  Resto de Países de Oceanía  Nacionalidad Extranjera   \n",
       "598498      19 Melilla  Resto de Países de Oceanía  Nacionalidad Extranjera   \n",
       "598499      19 Melilla  Resto de Países de Oceanía  Nacionalidad Extranjera   \n",
       "\n",
       "               Sexo   Año       Total  \n",
       "0       Ambos sexos  2022  47.475.420  \n",
       "1       Ambos sexos  2021  47.385.107  \n",
       "2       Ambos sexos  2020  47.450.795  \n",
       "3       Ambos sexos  2019  47.026.208  \n",
       "4       Ambos sexos  2018  46.722.980  \n",
       "...             ...   ...         ...  \n",
       "598495      Mujeres  2002           0  \n",
       "598496      Mujeres  2001           0  \n",
       "598497      Mujeres  2000           0  \n",
       "598498      Mujeres  1999           0  \n",
       "598499      Mujeres  1998           0  \n",
       "\n",
       "[598500 rows x 6 columns]"
      ]
     },
     "execution_count": 5,
     "metadata": {},
     "output_type": "execute_result"
    }
   ],
   "source": [
    "comunidades"
   ]
  },
  {
   "cell_type": "markdown",
   "id": "236e7d5a",
   "metadata": {},
   "source": [
    "### Trabajo en archivo \"comunidades\""
   ]
  },
  {
   "cell_type": "code",
   "execution_count": 6,
   "id": "6c86d293",
   "metadata": {},
   "outputs": [
    {
     "data": {
      "text/plain": [
       "Comunidades           object\n",
       "País de Nacimiento    object\n",
       "Español/Extranjero    object\n",
       "Sexo                  object\n",
       "Año                    int64\n",
       "Total                 object\n",
       "dtype: object"
      ]
     },
     "execution_count": 6,
     "metadata": {},
     "output_type": "execute_result"
    }
   ],
   "source": [
    "# Leemos el tipo de dato que es cada columna\n",
    "comunidades.dtypes"
   ]
  },
  {
   "cell_type": "code",
   "execution_count": 7,
   "id": "4857b896",
   "metadata": {},
   "outputs": [
    {
     "data": {
      "text/plain": [
       "0"
      ]
     },
     "execution_count": 7,
     "metadata": {},
     "output_type": "execute_result"
    }
   ],
   "source": [
    "# Comprobamos existencia de nulos en la cuenta de totales\n",
    "comunidades[\"Total\"].isnull().sum()"
   ]
  },
  {
   "cell_type": "code",
   "execution_count": 8,
   "id": "1a75be45",
   "metadata": {},
   "outputs": [
    {
     "name": "stderr",
     "output_type": "stream",
     "text": [
      "C:\\Users\\erick\\AppData\\Local\\Temp\\ipykernel_10496\\702572823.py:2: FutureWarning: The default value of regex will change from True to False in a future version. In addition, single character regular expressions will *not* be treated as literal strings when regex=True.\n",
      "  comunidades['Total'] = comunidades['Total'].str.replace('.', '')\n"
     ]
    }
   ],
   "source": [
    "# Convertimos la columna Total del dataframe de Comunidades a integers\n",
    "comunidades['Total'] = comunidades['Total'].str.replace('.', '')"
   ]
  },
  {
   "cell_type": "code",
   "execution_count": 9,
   "id": "233456d6",
   "metadata": {},
   "outputs": [],
   "source": [
    "# Asignamos tipo de datos Total a integer\n",
    "comunidades[\"Total\"] = comunidades[\"Total\"].fillna(0).astype(int)"
   ]
  },
  {
   "cell_type": "code",
   "execution_count": 10,
   "id": "295595e1",
   "metadata": {},
   "outputs": [
    {
     "data": {
      "text/plain": [
       "array(['TOTAL', 'Nacionalidad Española', 'Nacionalidad Extranjera'],\n",
       "      dtype=object)"
      ]
     },
     "execution_count": 10,
     "metadata": {},
     "output_type": "execute_result"
    }
   ],
   "source": [
    "# Comprobamos extensión de datos en tipo de nacionalidad\n",
    "comunidades[\"Español/Extranjero\"].unique()"
   ]
  },
  {
   "cell_type": "code",
   "execution_count": 11,
   "id": "1387db82",
   "metadata": {},
   "outputs": [
    {
     "data": {
      "text/plain": [
       "array(['TOTAL POBLACIÓN', 'NACIDOS EN ESPAÑA', 'NACIDOS EN EL EXTRANJERO',\n",
       "       'PAÍSES EUROPEOS', 'UNIÓN EUROPEA (27_2020)', 'Alemania',\n",
       "       'Austria', 'Bélgica', 'Bulgaria', 'Chipre', 'Croacia', 'Dinamarca',\n",
       "       'Eslovenia', 'Estonia', 'Finlandia', 'Francia', 'Grecia',\n",
       "       'Hungría', 'Irlanda', 'Italia', 'Letonia', 'Lituania',\n",
       "       'Luxemburgo', 'Malta', 'Países Bajos', 'Polonia', 'Portugal',\n",
       "       'República Checa', 'República Eslovaca', 'Rumanía', 'Suecia',\n",
       "       'PAÍSES EUROPEOS NO UE(27_2020)', 'Albania', 'Andorra', 'Armenia',\n",
       "       'Belarús', 'Bosnia y Herzegovina', 'Georgia', 'Islandia',\n",
       "       'Liechtenstein', 'Macedonia del Norte', 'Moldavia', 'Noruega',\n",
       "       'Reino Unido', 'Rusia', 'Serbia y Montenegro (Antigua Yugoslavia)',\n",
       "       'Serbia', 'Suiza', 'Turquía', 'Ucrania',\n",
       "       'Resto de Países Europeos', 'PAÍSES AFRICANOS', 'Angola',\n",
       "       'Argelia', 'Benin', 'Burkina Faso', 'Cabo Verde', 'Camerún',\n",
       "       'Congo', 'Costa de Marfil', 'Egipto', 'Etiopía', 'Gambia', 'Ghana',\n",
       "       'Guinea', 'Guinea Ecuatorial', 'Guinea-Bissau', 'Kenia', 'Liberia',\n",
       "       'Mali', 'Marruecos', 'Mauritania', 'Nigeria',\n",
       "       'República Democrática del Congo', 'Senegal', 'Sierra Leona',\n",
       "       'Sudáfrica', 'Togo', 'Túnez', 'Resto de Países Africanos',\n",
       "       'PAÍSES AMERICANOS', 'AMÉRICA CENTRAL Y CARIBE', 'Costa Rica',\n",
       "       'Cuba', 'Dominica', 'El Salvador', 'Guatemala', 'Honduras',\n",
       "       'Nicaragua', 'Panamá', 'República Dominicana',\n",
       "       'Resto de América Central y Caribe', 'AMÉRICA DEL NORTE', 'Canadá',\n",
       "       'Estados Unidos de América', 'México', 'AMÉRICA DEL SUR',\n",
       "       'Argentina', 'Bolivia', 'Brasil', 'Chile', 'Colombia', 'Ecuador',\n",
       "       'Paraguay', 'Perú', 'Uruguay', 'Venezuela',\n",
       "       'Resto de América del Sur', 'PAÍSES ASIÁTICOS', 'Arabia Saudí',\n",
       "       'Bangladesh', 'China', 'Corea', 'Filipinas', 'India', 'Indonesia',\n",
       "       'Irán', 'Iraq', 'Israel', 'Japón', 'Jordania', 'Kazajstán',\n",
       "       'Líbano', 'Nepal', 'Pakistán', 'Siria', 'Tailandia', 'Vietnam',\n",
       "       'Resto de Países Asiáticos', 'PAÍSES DE OCEANÍA', 'Australia',\n",
       "       'Nueva Zelanda', 'Resto de Países de Oceanía'], dtype=object)"
      ]
     },
     "execution_count": 11,
     "metadata": {},
     "output_type": "execute_result"
    }
   ],
   "source": [
    "# Comprobamos extensión de los países existentes en nuestros datos\n",
    "comunidades[\"País de Nacimiento\"].unique()"
   ]
  },
  {
   "cell_type": "code",
   "execution_count": 12,
   "id": "9bbcc586",
   "metadata": {},
   "outputs": [],
   "source": [
    "# Identificamos variables de grupos innecesarias para nuestro análisis\n",
    "grupos = [\n",
    "    \"PAÍSES AFRICANOS\",\n",
    "    \"PAÍSES ASIÁTICOS\",\n",
    "    \"PAÍSES DE OCEANÍA\",\n",
    "    \"Resto de Países Africanos\",\n",
    "    \"Resto de Países de Oceanía\",\n",
    "    \"UNIÓN EUROPEA (27_2020)\",\n",
    "    \"PAÍSES AMERICANOS\",\n",
    "    \"PAÍSES EUROPEOS\",\n",
    "    \"PAÍSES EUROPEOS NO UE(27_2020)\",\n",
    "    \"Resto de América Central y Caribe\",\n",
    "    \"Resto de América del Sur\",\n",
    "    \"Resto de Países Asiáticos\",\n",
    "    \"Resto de Países Europeos\",\n",
    "    \"AMÉRICA CENTRAL Y CARIBE\",\n",
    "    \"AMÉRICA DEL NORTE\",\n",
    "    \"AMÉRICA DEL SUR\",\n",
    "    \"NACIDOS EN EL EXTRANJERO\",\n",
    "    'EUROPA',\n",
    "    'UNIÓN EUROPEA',\n",
    "    'UE(15)',\n",
    "    'UE(25)',\n",
    "    'UE(27)',\n",
    "    'UE(28)',\n",
    "    'UE(27_2020)',\n",
    "    'EUROPA NO UE(27_2020)',\n",
    "    'Resto de Nacionalidades Europeas',\n",
    "    'ÁFRICA',\n",
    "    'Resto de África',\n",
    "    'AMÉRICA',\n",
    "    'Resto de América Central y Caribe',\n",
    "    'Resto de América del Sur',\n",
    "    'ASIA',\n",
    "    'Resto de Asia',\n",
    "    'OCEANÍA',\n",
    "    'Resto de Oceanía',\n",
    "    'APÁTRIDAS'\n",
    "    ]"
   ]
  },
  {
   "cell_type": "code",
   "execution_count": 13,
   "id": "ae3d4d3f",
   "metadata": {},
   "outputs": [],
   "source": [
    "# Traducimos al inglés los datos para estandarización de los datos\n",
    "trad = {\n",
    "    \"Albania\": \"Albania\",\n",
    "    \"Alemania\": \"Germany\",\n",
    "    \"Arabia Saudí\": \"Saudi Arabia\",\n",
    "    \"Argelia\": \"Algeria\",\n",
    "    \"Belarús\": \"Belarus\",\n",
    "    \"Bélgica\": \"Belgium\",\n",
    "    \"Bosnia y Herzegovina\": \"Bosnia and Herzegovina\",\n",
    "    \"Brasil\": \"Brazil\",\n",
    "    \"Cabo Verde\": \"Cape Verde\",\n",
    "    \"Camerún\": \"Cameroon\",\n",
    "    \"Canadá\": \"Canada\",\n",
    "    \"Chipre\": \"Cyprus\",\n",
    "    \"Corea\": \"Korea\",\n",
    "    \"Croacia\": \"Croatia\",\n",
    "    \"Costa de Marfil\": \"Ivory Coast\",\n",
    "    \"Dinamarca\": \"Denmark\",\n",
    "    \"Egipto\": \"Egypt\",\n",
    "    \"Eslovenia\": \"Slovenia\",\n",
    "    \"Estados Unidos de América\": \"United States of America\",\n",
    "    \"Etiopía\": \"Ethiopia\",\n",
    "    \"Filipinas\": \"Philippines\",\n",
    "    \"Finlandia\": \"Finland\",\n",
    "    \"Francia\": \"France\",\n",
    "    \"Guatemala\": \"Guatemala\",\n",
    "    \"Guinea Ecuatorial\": \"Equatorial Guinea\",\n",
    "    \"Grecia\": \"Greece\",\n",
    "    \"Hungría\": \"Hungary\",\n",
    "    \"Irán\": \"Iran\",\n",
    "    \"Irlanda\": \"Ireland\",\n",
    "    \"Islandia\": \"Iceland\",\n",
    "    \"Italia\": \"Italy\",\n",
    "    \"Japón\": \"Japan\",\n",
    "    \"Jordania\": \"Jordan\",\n",
    "    \"Kazajstán\": \"Kazakhstan\",\n",
    "    \"Kenia\": \"Kenya\",\n",
    "    \"Letonia\": \"Latvia\",\n",
    "    \"Líbano\": \"Lebanon\",\n",
    "    \"Lituania\": \"Lithuania\",\n",
    "    \"Luxemburgo\": \"Luxembourg\",\n",
    "    \"Macedonia del Norte\": \"North Macedonia\",\n",
    "    \"Marruecos\": \"Morocco\",\n",
    "    \"México\": \"Mexico\",\n",
    "    \"Moldavia\": \"Moldova\",\n",
    "    \"NACIDOS EN ESPAÑA\": \"BORN IN SPAIN\",\n",
    "    \"Noruega\": \"Norway\",\n",
    "    \"Nueva Zelanda\": \"New Zealand\",\n",
    "    \"Países Bajos\": \"Netherlands\",\n",
    "    \"Pakistán\": \"Pakistan\",\n",
    "    \"Panamá\": \"Panama\",\n",
    "    \"Perú\": \"Peru\",\n",
    "    \"Polonia\": \"Poland\",\n",
    "    \"Reino Unido\": \"United Kingdom\",\n",
    "    \"República Checa\": \"Czech Republic\",\n",
    "    \"República Democrática del Congo\": \"Democratic Republic of the Congo\",\n",
    "    \"República Dominicana\": \"Dominican Republic\",\n",
    "    \"República Eslovaca\": \"Slovak Republic\",\n",
    "    \"Rumanía\": \"Romania\",\n",
    "    \"Rusia\": \"Russia\",\n",
    "    \"Serbia y Montenegro (Antigua Yugoslavia)\": \"Serbia\",\n",
    "    \"Sierra Leona\": \"Sierra Leone\",\n",
    "    \"Siria\": \"Syria\",\n",
    "    \"Sudáfrica\": \"South Africa\",\n",
    "    \"Suecia\": \"Sweden\",\n",
    "    \"Suiza\": \"Switzerland\",\n",
    "    \"Tailandia\": \"Thailand\",\n",
    "    \"TOTAL POBLACIÓN\": \"TOTAL POPULATION\",\n",
    "    \"TOTAL EXTRANJEROS\": \"TOTAL POPULATION\",\n",
    "    \"Túnez\": \"Tunisia\",\n",
    "    \"Turquía\": \"Turkey\",\n",
    "    \"Ucrania\": \"Ukraine\"\n",
    "}"
   ]
  },
  {
   "cell_type": "code",
   "execution_count": 14,
   "id": "8fcf73a7",
   "metadata": {},
   "outputs": [],
   "source": [
    "# Definimos diccionario con base en estándar ISO3 para estandarización de datos\n",
    "codigo = {\"Albania\": \"ALB\", \n",
    "\"Germany\": \"DEU\", \n",
    "\"Andorra\": \"AND\", \n",
    "\"Angola\": \"AGO\", \n",
    "\"Saudi Arabia\": \"SAU\", \n",
    "\"Algeria\": \"DZA\", \n",
    "\"Argentina\": \"ARG\", \n",
    "\"Armenia\": \"ARM\", \n",
    "\"Australia\": \"AUS\", \n",
    "\"Austria\": \"AUT\", \n",
    "\"Bangladesh\": \"BGD\", \n",
    "\"Belarus\": \"BLR\", \n",
    "\"Belgium\": \"BEL\", \n",
    "\"Benin\": \"BEN\", \n",
    "\"Bolivia\": \"BOL\", \n",
    "\"Bosnia and Herzegovina\": \"BIH\", \n",
    "\"Brazil\": \"BRA\", \n",
    "\"Bulgaria\": \"BGR\", \n",
    "\"Burkina Faso\": \"BFA\", \n",
    "\"Cape Verde\": \"CPV\", \n",
    "\"Cameroon\": \"CMR\", \n",
    "\"Canada\": \"CAN\", \n",
    "\"Chile\": \"CHL\", \n",
    "\"China\": \"CHN\", \n",
    "\"Cyprus\": \"CYP\", \n",
    "\"Colombia\": \"COL\", \n",
    "\"Congo\": \"COG\", \n",
    "\"Korea\": \"KOR\", \n",
    "\"Ivory Coast\": \"CIV\", \n",
    "\"Costa Rica\": \"CRI\", \n",
    "\"Croatia\": \"HRV\", \n",
    "\"Cuba\": \"CUB\", \n",
    "\"Denmark\": \"DNK\", \n",
    "\"Dominica\": \"DMA\", \n",
    "\"Ecuador\": \"ECU\", \n",
    "\"Egypt\": \"EGY\", \n",
    "\"El Salvador\": \"SLV\", \n",
    "\"Slovenia\": \"SVN\", \n",
    "\"United States of America\": \"USA\", \n",
    "\"Estonia\": \"EST\", \n",
    "\"Ethiopia\": \"ETH\", \n",
    "\"Philippines\": \"PHL\", \n",
    "\"Finland\": \"FIN\", \n",
    "\"France\": \"FRA\", \n",
    "\"Gambia\": \"GMB\", \n",
    "\"Georgia\": \"GEO\", \n",
    "\"Ghana\": \"GHA\", \n",
    "\"Greece\": \"GRC\", \n",
    "\"Guatemala\": \"GTM\", \n",
    "\"Equatorial Guinea\": \"GNQ\", \n",
    "\"Guinea\": \"GIN\", \n",
    "\"Guinea-Bissau\": \"GNB\", \n",
    "\"Honduras\": \"HND\", \n",
    "\"Hungary\": \"HUN\", \n",
    "\"India\": \"IND\", \n",
    "\"Indonesia\": \"IDN\", \n",
    "\"Iran\": \"IRN\", \n",
    "\"Iraq\": \"IRQ\", \n",
    "\"Ireland\": \"IRL\", \n",
    "\"Iceland\": \"ISL\", \n",
    "\"Israel\": \"ISR\", \n",
    "\"Italy\": \"ITA\", \n",
    "\"Japan\": \"JPN\", \n",
    "\"Jordan\": \"JOR\", \n",
    "\"Kazakhstan\": \"KAZ\", \n",
    "\"Kenya\": \"KEN\", \n",
    "\"Latvia\": \"LVA\", \n",
    "\"Lebanon\": \"LBN\", \n",
    "\"Liberia\": \"LBR\", \n",
    "\"Liechtenstein\": \"LIE\", \n",
    "\"Lithuania\": \"LTU\", \n",
    "\"Luxembourg\": \"LUX\", \n",
    "\"North Macedonia\": \"MKD\", \n",
    "\"Mali\": \"MLI\", \n",
    "\"Malta\": \"MLT\", \n",
    "\"Morocco\": \"MAR\", \n",
    "\"Mauritania\": \"MRT\", \n",
    "\"Mexico\": \"MEX\", \n",
    "\"Moldova\": \"MDA\", \n",
    "\"BORN IN SPAIN\": \"ESP\", \n",
    "\"Nepal\": \"NPL\", \n",
    "\"Nicaragua\": \"NIC\", \n",
    "\"Nigeria\": \"NGA\", \n",
    "\"Norway\": \"NOR\", \n",
    "\"New Zealand\": \"NZL\", \n",
    "\"Netherlands\": \"NLD\", \n",
    "\"Pakistan\": \"PAK\", \n",
    "\"Panama\": \"PAN\", \n",
    "\"Paraguay\": \"PRY\", \n",
    "\"Peru\": \"PER\", \n",
    "\"Poland\": \"POL\", \n",
    "\"Portugal\": \"PRT\", \n",
    "\"United Kingdom\": \"GBR\", \n",
    "\"Czech Republic\": \"CZE\", \n",
    "\"Democratic Republic of the Congo\": \"COD\", \n",
    "\"Dominican Republic\": \"DOM\", \n",
    "\"Slovak Republic\": \"SVK\", \n",
    "\"Romania\": \"ROU\", \n",
    "\"Russia\": \"RUS\", \n",
    "\"Senegal\": \"SEN\", \n",
    "\"Serbia and Montenegro (Former Yugoslavia)\": \"SRB\", \n",
    "\"Serbia\": \"SRB\", \n",
    "\"Sierra Leone\": \"SLE\", \n",
    "\"Syria\": \"SYR\", \n",
    "\"South Africa\": \"ZAF\", \n",
    "\"Sweden\": \"SWE\", \n",
    "\"Switzerland\": \"CHE\", \n",
    "\"Thailand\": \"THA\", \n",
    "\"Togo\": \"TGO\", \n",
    "\"TOTAL POPULATION\": \"TOTALES\", \n",
    "\"Tunisia\": \"TUN\", \n",
    "\"Turkey\": \"TUR\", \n",
    "\"Ukraine\": \"UKR\", \n",
    "\"Uruguay\": \"URY\", \n",
    "\"Venezuela\": \"VEN\", \n",
    "\"Vietnam\": \"VNM\"\n",
    "}"
   ]
  },
  {
   "cell_type": "code",
   "execution_count": 15,
   "id": "481c91e5",
   "metadata": {},
   "outputs": [],
   "source": [
    "# Copia de seguridad\n",
    "comunidades1 = comunidades.copy()"
   ]
  },
  {
   "cell_type": "code",
   "execution_count": 16,
   "id": "3b5ced73",
   "metadata": {},
   "outputs": [],
   "source": [
    "# Eliminamos variables de grupos\n",
    "comunidades1 = comunidades1[~comunidades1[\"País de Nacimiento\"].isin(grupos)]\n",
    "comunidades1.drop(comunidades1[comunidades1['Comunidades'] == \"Total Nacional\"].index, inplace=True)\n",
    "comunidades1.drop(comunidades1[comunidades1['País de Nacimiento'] == \"TOTAL POBLACIÓN\"].index, inplace=True)\n",
    "comunidades1.drop(comunidades1[comunidades1['País de Nacimiento'] == \"NACIDOS EN ESPAÑA\"].index, inplace=True)\n",
    "comunidades1.drop(comunidades1[comunidades1['Español/Extranjero'] == \"Nacionalidad Española\"].index, inplace=True)\n",
    "comunidades1.drop(comunidades1[comunidades1['Español/Extranjero'] == \"TOTAL\"].index, inplace=True)\n",
    "comunidades1.drop(comunidades1[comunidades1['Comunidades'] == \"Total Nacional\"].index, inplace=True)"
   ]
  },
  {
   "cell_type": "code",
   "execution_count": 17,
   "id": "ac37dea0",
   "metadata": {},
   "outputs": [],
   "source": [
    "# Reemplazo de valores para estandarizar en inglés\n",
    "comunidades1[\"Sexo\"].replace({\"Ambos sexos\": \"Both\", \"Hombres\": \"Male\", \"Mujeres\": \"Female\"}, inplace = True)\n",
    "comunidades1[\"Español/Extranjero\"].replace({\"Nacionalidad Extranjera\": \"Foreign\"}, inplace = True)\n",
    "comunidades1.rename(columns={\"Sexo\": \"Sex\", \"Año\": \"Year\", \"Comunidades\": \"Communities\", \"Español/Extranjero\": \"Origin\"}, inplace = True)"
   ]
  },
  {
   "cell_type": "markdown",
   "id": "719aa373",
   "metadata": {},
   "source": [
    "En la celda anterior, procedimos a eliminar una serie de valores agrupadores que posiblemente podrían alterar el objetivo de nuestro análisis. Nos estamos enfocando en grupos selectos de países individuales, más allá de la información que los resume y que también incluye a los españoles, pues, deseamos conocer los motivos de la inmigración extranjera y no los motivos de reingreso de españoles."
   ]
  },
  {
   "cell_type": "code",
   "execution_count": 18,
   "id": "f0f51326",
   "metadata": {},
   "outputs": [
    {
     "data": {
      "text/html": [
       "<div>\n",
       "<style scoped>\n",
       "    .dataframe tbody tr th:only-of-type {\n",
       "        vertical-align: middle;\n",
       "    }\n",
       "\n",
       "    .dataframe tbody tr th {\n",
       "        vertical-align: top;\n",
       "    }\n",
       "\n",
       "    .dataframe thead th {\n",
       "        text-align: right;\n",
       "    }\n",
       "</style>\n",
       "<table border=\"1\" class=\"dataframe\">\n",
       "  <thead>\n",
       "    <tr style=\"text-align: right;\">\n",
       "      <th></th>\n",
       "      <th>Communities</th>\n",
       "      <th>País de Nacimiento</th>\n",
       "      <th>Origin</th>\n",
       "      <th>Sex</th>\n",
       "      <th>Year</th>\n",
       "      <th>Total</th>\n",
       "    </tr>\n",
       "  </thead>\n",
       "  <tbody>\n",
       "    <tr>\n",
       "      <th>31200</th>\n",
       "      <td>01 Andalucía</td>\n",
       "      <td>Alemania</td>\n",
       "      <td>Foreign</td>\n",
       "      <td>Both</td>\n",
       "      <td>2022</td>\n",
       "      <td>0</td>\n",
       "    </tr>\n",
       "    <tr>\n",
       "      <th>31201</th>\n",
       "      <td>01 Andalucía</td>\n",
       "      <td>Alemania</td>\n",
       "      <td>Foreign</td>\n",
       "      <td>Both</td>\n",
       "      <td>2021</td>\n",
       "      <td>0</td>\n",
       "    </tr>\n",
       "    <tr>\n",
       "      <th>31202</th>\n",
       "      <td>01 Andalucía</td>\n",
       "      <td>Alemania</td>\n",
       "      <td>Foreign</td>\n",
       "      <td>Both</td>\n",
       "      <td>2020</td>\n",
       "      <td>0</td>\n",
       "    </tr>\n",
       "    <tr>\n",
       "      <th>31203</th>\n",
       "      <td>01 Andalucía</td>\n",
       "      <td>Alemania</td>\n",
       "      <td>Foreign</td>\n",
       "      <td>Both</td>\n",
       "      <td>2019</td>\n",
       "      <td>0</td>\n",
       "    </tr>\n",
       "    <tr>\n",
       "      <th>31204</th>\n",
       "      <td>01 Andalucía</td>\n",
       "      <td>Alemania</td>\n",
       "      <td>Foreign</td>\n",
       "      <td>Both</td>\n",
       "      <td>2018</td>\n",
       "      <td>0</td>\n",
       "    </tr>\n",
       "    <tr>\n",
       "      <th>...</th>\n",
       "      <td>...</td>\n",
       "      <td>...</td>\n",
       "      <td>...</td>\n",
       "      <td>...</td>\n",
       "      <td>...</td>\n",
       "      <td>...</td>\n",
       "    </tr>\n",
       "    <tr>\n",
       "      <th>598270</th>\n",
       "      <td>19 Melilla</td>\n",
       "      <td>Nueva Zelanda</td>\n",
       "      <td>Foreign</td>\n",
       "      <td>Female</td>\n",
       "      <td>2002</td>\n",
       "      <td>0</td>\n",
       "    </tr>\n",
       "    <tr>\n",
       "      <th>598271</th>\n",
       "      <td>19 Melilla</td>\n",
       "      <td>Nueva Zelanda</td>\n",
       "      <td>Foreign</td>\n",
       "      <td>Female</td>\n",
       "      <td>2001</td>\n",
       "      <td>0</td>\n",
       "    </tr>\n",
       "    <tr>\n",
       "      <th>598272</th>\n",
       "      <td>19 Melilla</td>\n",
       "      <td>Nueva Zelanda</td>\n",
       "      <td>Foreign</td>\n",
       "      <td>Female</td>\n",
       "      <td>2000</td>\n",
       "      <td>0</td>\n",
       "    </tr>\n",
       "    <tr>\n",
       "      <th>598273</th>\n",
       "      <td>19 Melilla</td>\n",
       "      <td>Nueva Zelanda</td>\n",
       "      <td>Foreign</td>\n",
       "      <td>Female</td>\n",
       "      <td>1999</td>\n",
       "      <td>0</td>\n",
       "    </tr>\n",
       "    <tr>\n",
       "      <th>598274</th>\n",
       "      <td>19 Melilla</td>\n",
       "      <td>Nueva Zelanda</td>\n",
       "      <td>Foreign</td>\n",
       "      <td>Female</td>\n",
       "      <td>1998</td>\n",
       "      <td>0</td>\n",
       "    </tr>\n",
       "  </tbody>\n",
       "</table>\n",
       "<p>162450 rows × 6 columns</p>\n",
       "</div>"
      ],
      "text/plain": [
       "         Communities País de Nacimiento   Origin     Sex  Year  Total\n",
       "31200   01 Andalucía           Alemania  Foreign    Both  2022      0\n",
       "31201   01 Andalucía           Alemania  Foreign    Both  2021      0\n",
       "31202   01 Andalucía           Alemania  Foreign    Both  2020      0\n",
       "31203   01 Andalucía           Alemania  Foreign    Both  2019      0\n",
       "31204   01 Andalucía           Alemania  Foreign    Both  2018      0\n",
       "...              ...                ...      ...     ...   ...    ...\n",
       "598270    19 Melilla      Nueva Zelanda  Foreign  Female  2002      0\n",
       "598271    19 Melilla      Nueva Zelanda  Foreign  Female  2001      0\n",
       "598272    19 Melilla      Nueva Zelanda  Foreign  Female  2000      0\n",
       "598273    19 Melilla      Nueva Zelanda  Foreign  Female  1999      0\n",
       "598274    19 Melilla      Nueva Zelanda  Foreign  Female  1998      0\n",
       "\n",
       "[162450 rows x 6 columns]"
      ]
     },
     "execution_count": 18,
     "metadata": {},
     "output_type": "execute_result"
    }
   ],
   "source": [
    "# Comprobamos extensión\n",
    "comunidades1"
   ]
  },
  {
   "cell_type": "code",
   "execution_count": 19,
   "id": "9c91546f",
   "metadata": {},
   "outputs": [],
   "source": [
    "# Traducimos países al inglés para estandarización del proyecto\n",
    "# Aquellos países que sean igual en inglés y español, se pasan como tal\n",
    "comunidades1[\"Country\"] = comunidades1[\"País de Nacimiento\"].map(trad)\n",
    "comunidades1[\"Country\"] = comunidades1[\"Country\"].fillna(comunidades[\"País de Nacimiento\"])"
   ]
  },
  {
   "cell_type": "code",
   "execution_count": 20,
   "id": "9173656c",
   "metadata": {},
   "outputs": [
    {
     "data": {
      "text/plain": [
       "array(['Germany', 'Austria', 'Belgium', 'Bulgaria', 'Cyprus', 'Croatia',\n",
       "       'Denmark', 'Slovenia', 'Estonia', 'Finland', 'France', 'Greece',\n",
       "       'Hungary', 'Ireland', 'Italy', 'Latvia', 'Lithuania', 'Luxembourg',\n",
       "       'Malta', 'Netherlands', 'Poland', 'Portugal', 'Czech Republic',\n",
       "       'Slovak Republic', 'Romania', 'Sweden', 'Albania', 'Andorra',\n",
       "       'Armenia', 'Belarus', 'Bosnia and Herzegovina', 'Georgia',\n",
       "       'Iceland', 'Liechtenstein', 'North Macedonia', 'Moldova', 'Norway',\n",
       "       'United Kingdom', 'Russia', 'Serbia', 'Switzerland', 'Turkey',\n",
       "       'Ukraine', 'Angola', 'Algeria', 'Benin', 'Burkina Faso',\n",
       "       'Cape Verde', 'Cameroon', 'Congo', 'Ivory Coast', 'Egypt',\n",
       "       'Ethiopia', 'Gambia', 'Ghana', 'Guinea', 'Equatorial Guinea',\n",
       "       'Guinea-Bissau', 'Kenya', 'Liberia', 'Mali', 'Morocco',\n",
       "       'Mauritania', 'Nigeria', 'Democratic Republic of the Congo',\n",
       "       'Senegal', 'Sierra Leone', 'South Africa', 'Togo', 'Tunisia',\n",
       "       'Costa Rica', 'Cuba', 'Dominica', 'El Salvador', 'Guatemala',\n",
       "       'Honduras', 'Nicaragua', 'Panama', 'Dominican Republic', 'Canada',\n",
       "       'United States of America', 'Mexico', 'Argentina', 'Bolivia',\n",
       "       'Brazil', 'Chile', 'Colombia', 'Ecuador', 'Paraguay', 'Peru',\n",
       "       'Uruguay', 'Venezuela', 'Saudi Arabia', 'Bangladesh', 'China',\n",
       "       'Korea', 'Philippines', 'India', 'Indonesia', 'Iran', 'Iraq',\n",
       "       'Israel', 'Japan', 'Jordan', 'Kazakhstan', 'Lebanon', 'Nepal',\n",
       "       'Pakistan', 'Syria', 'Thailand', 'Vietnam', 'Australia',\n",
       "       'New Zealand'], dtype=object)"
      ]
     },
     "execution_count": 20,
     "metadata": {},
     "output_type": "execute_result"
    }
   ],
   "source": [
    "# Damos lectura a los países que existen en nuestros datos\n",
    "comunidades1[\"Country\"].unique()"
   ]
  },
  {
   "cell_type": "code",
   "execution_count": 21,
   "id": "5e5aa196",
   "metadata": {},
   "outputs": [],
   "source": [
    "# Mapeamos código de países\n",
    "comunidades1[\"Country Code\"] = comunidades1[\"Country\"].map(codigo)"
   ]
  },
  {
   "cell_type": "code",
   "execution_count": 22,
   "id": "2a2aebf9",
   "metadata": {},
   "outputs": [
    {
     "data": {
      "text/plain": [
       "0"
      ]
     },
     "execution_count": 22,
     "metadata": {},
     "output_type": "execute_result"
    }
   ],
   "source": [
    "# Comprobamos existencia de nulos en los códigos\n",
    "comunidades1[\"Country Code\"].isnull().sum()"
   ]
  },
  {
   "cell_type": "code",
   "execution_count": 23,
   "id": "5e1455b2",
   "metadata": {},
   "outputs": [
    {
     "data": {
      "text/plain": [
       "array([], dtype=object)"
      ]
     },
     "execution_count": 23,
     "metadata": {},
     "output_type": "execute_result"
    }
   ],
   "source": [
    "comunidades1.loc[comunidades1[\"Country Code\"].isnull()][\"Country\"].unique()"
   ]
  },
  {
   "cell_type": "code",
   "execution_count": 24,
   "id": "48800b87",
   "metadata": {},
   "outputs": [],
   "source": [
    "comunidades1.drop(\"País de Nacimiento\", axis = 1, inplace = True)"
   ]
  },
  {
   "cell_type": "code",
   "execution_count": 25,
   "id": "46c47591",
   "metadata": {},
   "outputs": [
    {
     "data": {
      "text/html": [
       "<div>\n",
       "<style scoped>\n",
       "    .dataframe tbody tr th:only-of-type {\n",
       "        vertical-align: middle;\n",
       "    }\n",
       "\n",
       "    .dataframe tbody tr th {\n",
       "        vertical-align: top;\n",
       "    }\n",
       "\n",
       "    .dataframe thead th {\n",
       "        text-align: right;\n",
       "    }\n",
       "</style>\n",
       "<table border=\"1\" class=\"dataframe\">\n",
       "  <thead>\n",
       "    <tr style=\"text-align: right;\">\n",
       "      <th></th>\n",
       "      <th>Communities</th>\n",
       "      <th>Origin</th>\n",
       "      <th>Sex</th>\n",
       "      <th>Year</th>\n",
       "      <th>Total</th>\n",
       "      <th>Country</th>\n",
       "      <th>Country Code</th>\n",
       "    </tr>\n",
       "  </thead>\n",
       "  <tbody>\n",
       "    <tr>\n",
       "      <th>31200</th>\n",
       "      <td>01 Andalucía</td>\n",
       "      <td>Foreign</td>\n",
       "      <td>Both</td>\n",
       "      <td>2022</td>\n",
       "      <td>0</td>\n",
       "      <td>Germany</td>\n",
       "      <td>DEU</td>\n",
       "    </tr>\n",
       "    <tr>\n",
       "      <th>31201</th>\n",
       "      <td>01 Andalucía</td>\n",
       "      <td>Foreign</td>\n",
       "      <td>Both</td>\n",
       "      <td>2021</td>\n",
       "      <td>0</td>\n",
       "      <td>Germany</td>\n",
       "      <td>DEU</td>\n",
       "    </tr>\n",
       "    <tr>\n",
       "      <th>31202</th>\n",
       "      <td>01 Andalucía</td>\n",
       "      <td>Foreign</td>\n",
       "      <td>Both</td>\n",
       "      <td>2020</td>\n",
       "      <td>0</td>\n",
       "      <td>Germany</td>\n",
       "      <td>DEU</td>\n",
       "    </tr>\n",
       "    <tr>\n",
       "      <th>31203</th>\n",
       "      <td>01 Andalucía</td>\n",
       "      <td>Foreign</td>\n",
       "      <td>Both</td>\n",
       "      <td>2019</td>\n",
       "      <td>0</td>\n",
       "      <td>Germany</td>\n",
       "      <td>DEU</td>\n",
       "    </tr>\n",
       "    <tr>\n",
       "      <th>31204</th>\n",
       "      <td>01 Andalucía</td>\n",
       "      <td>Foreign</td>\n",
       "      <td>Both</td>\n",
       "      <td>2018</td>\n",
       "      <td>0</td>\n",
       "      <td>Germany</td>\n",
       "      <td>DEU</td>\n",
       "    </tr>\n",
       "    <tr>\n",
       "      <th>...</th>\n",
       "      <td>...</td>\n",
       "      <td>...</td>\n",
       "      <td>...</td>\n",
       "      <td>...</td>\n",
       "      <td>...</td>\n",
       "      <td>...</td>\n",
       "      <td>...</td>\n",
       "    </tr>\n",
       "    <tr>\n",
       "      <th>598270</th>\n",
       "      <td>19 Melilla</td>\n",
       "      <td>Foreign</td>\n",
       "      <td>Female</td>\n",
       "      <td>2002</td>\n",
       "      <td>0</td>\n",
       "      <td>New Zealand</td>\n",
       "      <td>NZL</td>\n",
       "    </tr>\n",
       "    <tr>\n",
       "      <th>598271</th>\n",
       "      <td>19 Melilla</td>\n",
       "      <td>Foreign</td>\n",
       "      <td>Female</td>\n",
       "      <td>2001</td>\n",
       "      <td>0</td>\n",
       "      <td>New Zealand</td>\n",
       "      <td>NZL</td>\n",
       "    </tr>\n",
       "    <tr>\n",
       "      <th>598272</th>\n",
       "      <td>19 Melilla</td>\n",
       "      <td>Foreign</td>\n",
       "      <td>Female</td>\n",
       "      <td>2000</td>\n",
       "      <td>0</td>\n",
       "      <td>New Zealand</td>\n",
       "      <td>NZL</td>\n",
       "    </tr>\n",
       "    <tr>\n",
       "      <th>598273</th>\n",
       "      <td>19 Melilla</td>\n",
       "      <td>Foreign</td>\n",
       "      <td>Female</td>\n",
       "      <td>1999</td>\n",
       "      <td>0</td>\n",
       "      <td>New Zealand</td>\n",
       "      <td>NZL</td>\n",
       "    </tr>\n",
       "    <tr>\n",
       "      <th>598274</th>\n",
       "      <td>19 Melilla</td>\n",
       "      <td>Foreign</td>\n",
       "      <td>Female</td>\n",
       "      <td>1998</td>\n",
       "      <td>0</td>\n",
       "      <td>New Zealand</td>\n",
       "      <td>NZL</td>\n",
       "    </tr>\n",
       "  </tbody>\n",
       "</table>\n",
       "<p>162450 rows × 7 columns</p>\n",
       "</div>"
      ],
      "text/plain": [
       "         Communities   Origin     Sex  Year  Total      Country Country Code\n",
       "31200   01 Andalucía  Foreign    Both  2022      0      Germany          DEU\n",
       "31201   01 Andalucía  Foreign    Both  2021      0      Germany          DEU\n",
       "31202   01 Andalucía  Foreign    Both  2020      0      Germany          DEU\n",
       "31203   01 Andalucía  Foreign    Both  2019      0      Germany          DEU\n",
       "31204   01 Andalucía  Foreign    Both  2018      0      Germany          DEU\n",
       "...              ...      ...     ...   ...    ...          ...          ...\n",
       "598270    19 Melilla  Foreign  Female  2002      0  New Zealand          NZL\n",
       "598271    19 Melilla  Foreign  Female  2001      0  New Zealand          NZL\n",
       "598272    19 Melilla  Foreign  Female  2000      0  New Zealand          NZL\n",
       "598273    19 Melilla  Foreign  Female  1999      0  New Zealand          NZL\n",
       "598274    19 Melilla  Foreign  Female  1998      0  New Zealand          NZL\n",
       "\n",
       "[162450 rows x 7 columns]"
      ]
     },
     "execution_count": 25,
     "metadata": {},
     "output_type": "execute_result"
    }
   ],
   "source": [
    "comunidades1"
   ]
  },
  {
   "cell_type": "markdown",
   "id": "40f83969",
   "metadata": {},
   "source": [
    "### Trabajo en archivo \"nacional\""
   ]
  },
  {
   "cell_type": "code",
   "execution_count": 26,
   "id": "d336e853",
   "metadata": {},
   "outputs": [
    {
     "data": {
      "text/plain": [
       "array(['TOTAL EXTRANJEROS', 'EUROPA', 'UNIÓN EUROPEA', 'UE(15)', 'UE(25)',\n",
       "       'UE(27)', 'UE(28)', 'UE(27_2020)', 'Alemania', 'Austria',\n",
       "       'Bélgica', 'Bulgaria', 'Chipre', 'Croacia', 'Dinamarca',\n",
       "       'Eslovenia', 'Estonia', 'Finlandia', 'Francia', 'Grecia',\n",
       "       'Hungría', 'Irlanda', 'Italia', 'Letonia', 'Lituania',\n",
       "       'Luxemburgo', 'Malta', 'Países Bajos', 'Polonia', 'Portugal',\n",
       "       'República Checa', 'República Eslovaca', 'Rumanía', 'Suecia',\n",
       "       'EUROPA NO UE(27_2020)', 'Albania', 'Andorra', 'Armenia',\n",
       "       'Belarús', 'Bosnia y Herzegovina', 'Georgia', 'Islandia',\n",
       "       'Liechtenstein', 'Macedonia del Norte', 'Moldavia', 'Noruega',\n",
       "       'Reino Unido', 'Rusia', 'Serbia y Montenegro (Antigua Yugoslavia)',\n",
       "       'Serbia', 'Suiza', 'Turquía', 'Ucrania',\n",
       "       'Resto de Nacionalidades Europeas', 'ÁFRICA', 'Angola', 'Argelia',\n",
       "       'Benin', 'Burkina Faso', 'Cabo Verde', 'Camerún', 'Congo',\n",
       "       'Costa de Marfil', 'Egipto', 'Etiopía', 'Gambia', 'Ghana',\n",
       "       'Guinea', 'Guinea Ecuatorial', 'Guinea-Bissau', 'Kenia', 'Liberia',\n",
       "       'Mali', 'Marruecos', 'Mauritania', 'Nigeria',\n",
       "       'República Democrática del Congo', 'Senegal', 'Sierra Leona',\n",
       "       'Sudáfrica', 'Togo', 'Túnez', 'Resto de África', 'AMÉRICA',\n",
       "       'AMÉRICA CENTRAL Y CARIBE', 'Costa Rica', 'Cuba', 'Dominica',\n",
       "       'El Salvador', 'Guatemala', 'Honduras', 'Nicaragua', 'Panamá',\n",
       "       'República Dominicana', 'Resto de América Central y Caribe',\n",
       "       'AMÉRICA DEL NORTE', 'Canadá', 'Estados Unidos de América',\n",
       "       'México', 'AMÉRICA DEL SUR', 'Argentina', 'Bolivia', 'Brasil',\n",
       "       'Chile', 'Colombia', 'Ecuador', 'Paraguay', 'Perú', 'Uruguay',\n",
       "       'Venezuela', 'Resto de América del Sur', 'ASIA', 'Arabia Saudí',\n",
       "       'Bangladesh', 'China', 'Corea', 'Filipinas', 'India', 'Indonesia',\n",
       "       'Irán', 'Iraq', 'Israel', 'Japón', 'Jordania', 'Kazajstán',\n",
       "       'Líbano', 'Nepal', 'Pakistán', 'Siria', 'Tailandia', 'Vietnam',\n",
       "       'Resto de Asia', 'OCEANÍA', 'Australia', 'Nueva Zelanda',\n",
       "       'Resto de Oceanía', 'APÁTRIDAS'], dtype=object)"
      ]
     },
     "execution_count": 26,
     "metadata": {},
     "output_type": "execute_result"
    }
   ],
   "source": [
    "nacional.Nacionalidad.unique()"
   ]
  },
  {
   "cell_type": "code",
   "execution_count": 27,
   "id": "f97096cb",
   "metadata": {},
   "outputs": [
    {
     "data": {
      "text/plain": [
       "Nacionalidad    object\n",
       "Sexo            object\n",
       "Año              int64\n",
       "Total           object\n",
       "dtype: object"
      ]
     },
     "execution_count": 27,
     "metadata": {},
     "output_type": "execute_result"
    }
   ],
   "source": [
    "nacional.dtypes"
   ]
  },
  {
   "cell_type": "code",
   "execution_count": 28,
   "id": "5339d7c9",
   "metadata": {},
   "outputs": [
    {
     "name": "stderr",
     "output_type": "stream",
     "text": [
      "C:\\Users\\erick\\AppData\\Local\\Temp\\ipykernel_10496\\1705393748.py:1: FutureWarning: The default value of regex will change from True to False in a future version. In addition, single character regular expressions will *not* be treated as literal strings when regex=True.\n",
      "  nacional['Total'] = nacional['Total'].str.replace('.', '')\n"
     ]
    }
   ],
   "source": [
    "nacional['Total'] = nacional['Total'].str.replace('.', '')"
   ]
  },
  {
   "cell_type": "code",
   "execution_count": 29,
   "id": "1545bbae",
   "metadata": {},
   "outputs": [],
   "source": [
    "nacional.Nacionalidad = nacional.Nacionalidad.astype(\"string\")\n",
    "nacional.Sexo = nacional.Sexo.astype(\"string\")\n",
    "nacional.Total = nacional.Total.astype(\"int\")"
   ]
  },
  {
   "cell_type": "code",
   "execution_count": 30,
   "id": "6cde7dd6",
   "metadata": {},
   "outputs": [],
   "source": [
    "nacional1 = nacional.copy()"
   ]
  },
  {
   "cell_type": "code",
   "execution_count": 31,
   "id": "19410adb",
   "metadata": {},
   "outputs": [],
   "source": [
    "# Eliminamos variables de grupos\n",
    "nacional1 = nacional1[~nacional1[\"Nacionalidad\"].isin(grupos)]\n",
    "\n",
    "nacional1.drop(nacional1[nacional1['Nacionalidad'] == \"TOTAL EXTRANJEROS\"].index, inplace=True)"
   ]
  },
  {
   "cell_type": "code",
   "execution_count": 32,
   "id": "a77bfc04",
   "metadata": {},
   "outputs": [],
   "source": [
    "nacional1[\"Country\"] = nacional1[\"Nacionalidad\"].map(trad)\n",
    "nacional1[\"Country\"] = nacional1[\"Country\"].fillna(nacional[\"Nacionalidad\"])"
   ]
  },
  {
   "cell_type": "code",
   "execution_count": 33,
   "id": "2198825a",
   "metadata": {},
   "outputs": [],
   "source": [
    "# Mapeamos código de países\n",
    "nacional1[\"Country Code\"] = nacional1[\"Country\"].map(codigo)"
   ]
  },
  {
   "cell_type": "code",
   "execution_count": 34,
   "id": "cbd3c1d8",
   "metadata": {},
   "outputs": [
    {
     "data": {
      "text/plain": [
       "0"
      ]
     },
     "execution_count": 34,
     "metadata": {},
     "output_type": "execute_result"
    }
   ],
   "source": [
    "# Comprobamos existencia de nulos en los códigos\n",
    "nacional1[\"Country Code\"].isnull().sum()"
   ]
  },
  {
   "cell_type": "code",
   "execution_count": 47,
   "id": "7c8fa653",
   "metadata": {},
   "outputs": [
    {
     "data": {
      "text/plain": [
       "array([], dtype=object)"
      ]
     },
     "execution_count": 47,
     "metadata": {},
     "output_type": "execute_result"
    }
   ],
   "source": [
    "# Corroboramos mapeo correcto de los países y sus códigos\n",
    "nacional1.loc[nacional1[\"Country Code\"].isnull()][\"Country\"].unique()"
   ]
  },
  {
   "cell_type": "code",
   "execution_count": 48,
   "id": "460ad6da",
   "metadata": {},
   "outputs": [
    {
     "data": {
      "text/plain": [
       "False"
      ]
     },
     "execution_count": 48,
     "metadata": {},
     "output_type": "execute_result"
    }
   ],
   "source": [
    "# Comprobamos no inclusión de registros españoles en el dataset\n",
    "nacional1['Country Code'].isin(['ESP']).any()"
   ]
  },
  {
   "cell_type": "code",
   "execution_count": 49,
   "id": "dcdeaa26",
   "metadata": {},
   "outputs": [
    {
     "data": {
      "text/html": [
       "<div>\n",
       "<style scoped>\n",
       "    .dataframe tbody tr th:only-of-type {\n",
       "        vertical-align: middle;\n",
       "    }\n",
       "\n",
       "    .dataframe tbody tr th {\n",
       "        vertical-align: top;\n",
       "    }\n",
       "\n",
       "    .dataframe thead th {\n",
       "        text-align: right;\n",
       "    }\n",
       "</style>\n",
       "<table border=\"1\" class=\"dataframe\">\n",
       "  <thead>\n",
       "    <tr style=\"text-align: right;\">\n",
       "      <th></th>\n",
       "      <th>Sexo</th>\n",
       "      <th>Año</th>\n",
       "      <th>Total</th>\n",
       "      <th>Country</th>\n",
       "      <th>Country Code</th>\n",
       "    </tr>\n",
       "  </thead>\n",
       "  <tbody>\n",
       "    <tr>\n",
       "      <th>600</th>\n",
       "      <td>Both</td>\n",
       "      <td>2022</td>\n",
       "      <td>116122</td>\n",
       "      <td>Germany</td>\n",
       "      <td>DEU</td>\n",
       "    </tr>\n",
       "    <tr>\n",
       "      <th>601</th>\n",
       "      <td>Both</td>\n",
       "      <td>2021</td>\n",
       "      <td>109556</td>\n",
       "      <td>Germany</td>\n",
       "      <td>DEU</td>\n",
       "    </tr>\n",
       "    <tr>\n",
       "      <th>602</th>\n",
       "      <td>Both</td>\n",
       "      <td>2020</td>\n",
       "      <td>111937</td>\n",
       "      <td>Germany</td>\n",
       "      <td>DEU</td>\n",
       "    </tr>\n",
       "    <tr>\n",
       "      <th>603</th>\n",
       "      <td>Both</td>\n",
       "      <td>2019</td>\n",
       "      <td>111911</td>\n",
       "      <td>Germany</td>\n",
       "      <td>DEU</td>\n",
       "    </tr>\n",
       "    <tr>\n",
       "      <th>604</th>\n",
       "      <td>Both</td>\n",
       "      <td>2018</td>\n",
       "      <td>111495</td>\n",
       "      <td>Germany</td>\n",
       "      <td>DEU</td>\n",
       "    </tr>\n",
       "    <tr>\n",
       "      <th>...</th>\n",
       "      <td>...</td>\n",
       "      <td>...</td>\n",
       "      <td>...</td>\n",
       "      <td>...</td>\n",
       "      <td>...</td>\n",
       "    </tr>\n",
       "    <tr>\n",
       "      <th>10120</th>\n",
       "      <td>Female</td>\n",
       "      <td>2002</td>\n",
       "      <td>112</td>\n",
       "      <td>New Zealand</td>\n",
       "      <td>NZL</td>\n",
       "    </tr>\n",
       "    <tr>\n",
       "      <th>10121</th>\n",
       "      <td>Female</td>\n",
       "      <td>2001</td>\n",
       "      <td>98</td>\n",
       "      <td>New Zealand</td>\n",
       "      <td>NZL</td>\n",
       "    </tr>\n",
       "    <tr>\n",
       "      <th>10122</th>\n",
       "      <td>Female</td>\n",
       "      <td>2000</td>\n",
       "      <td>85</td>\n",
       "      <td>New Zealand</td>\n",
       "      <td>NZL</td>\n",
       "    </tr>\n",
       "    <tr>\n",
       "      <th>10123</th>\n",
       "      <td>Female</td>\n",
       "      <td>1999</td>\n",
       "      <td>63</td>\n",
       "      <td>New Zealand</td>\n",
       "      <td>NZL</td>\n",
       "    </tr>\n",
       "    <tr>\n",
       "      <th>10124</th>\n",
       "      <td>Female</td>\n",
       "      <td>1998</td>\n",
       "      <td>83</td>\n",
       "      <td>New Zealand</td>\n",
       "      <td>NZL</td>\n",
       "    </tr>\n",
       "  </tbody>\n",
       "</table>\n",
       "<p>8550 rows × 5 columns</p>\n",
       "</div>"
      ],
      "text/plain": [
       "         Sexo   Año   Total      Country Country Code\n",
       "600      Both  2022  116122      Germany          DEU\n",
       "601      Both  2021  109556      Germany          DEU\n",
       "602      Both  2020  111937      Germany          DEU\n",
       "603      Both  2019  111911      Germany          DEU\n",
       "604      Both  2018  111495      Germany          DEU\n",
       "...       ...   ...     ...          ...          ...\n",
       "10120  Female  2002     112  New Zealand          NZL\n",
       "10121  Female  2001      98  New Zealand          NZL\n",
       "10122  Female  2000      85  New Zealand          NZL\n",
       "10123  Female  1999      63  New Zealand          NZL\n",
       "10124  Female  1998      83  New Zealand          NZL\n",
       "\n",
       "[8550 rows x 5 columns]"
      ]
     },
     "execution_count": 49,
     "metadata": {},
     "output_type": "execute_result"
    }
   ],
   "source": [
    "nacional1"
   ]
  },
  {
   "cell_type": "code",
   "execution_count": 54,
   "id": "ca94649d",
   "metadata": {},
   "outputs": [],
   "source": [
    "# Estandarización en inglés\n",
    "nacional1.Sexo.replace({\"Ambos sexos\": \"Both\", \"Hombres\": \"Male\", \"Mujeres\": \"Female\"}, inplace = True)\n",
    "nacional1.rename(columns={\"Sexo\": \"Sex\", \"Año\": \"Year\"}, inplace = True)"
   ]
  },
  {
   "cell_type": "code",
   "execution_count": 55,
   "id": "c845b399",
   "metadata": {},
   "outputs": [
    {
     "data": {
      "text/html": [
       "<div>\n",
       "<style scoped>\n",
       "    .dataframe tbody tr th:only-of-type {\n",
       "        vertical-align: middle;\n",
       "    }\n",
       "\n",
       "    .dataframe tbody tr th {\n",
       "        vertical-align: top;\n",
       "    }\n",
       "\n",
       "    .dataframe thead th {\n",
       "        text-align: right;\n",
       "    }\n",
       "</style>\n",
       "<table border=\"1\" class=\"dataframe\">\n",
       "  <thead>\n",
       "    <tr style=\"text-align: right;\">\n",
       "      <th></th>\n",
       "      <th>Sex</th>\n",
       "      <th>Year</th>\n",
       "      <th>Total</th>\n",
       "      <th>Country</th>\n",
       "      <th>Country Code</th>\n",
       "    </tr>\n",
       "  </thead>\n",
       "  <tbody>\n",
       "    <tr>\n",
       "      <th>600</th>\n",
       "      <td>Both</td>\n",
       "      <td>2022</td>\n",
       "      <td>116122</td>\n",
       "      <td>Germany</td>\n",
       "      <td>DEU</td>\n",
       "    </tr>\n",
       "    <tr>\n",
       "      <th>601</th>\n",
       "      <td>Both</td>\n",
       "      <td>2021</td>\n",
       "      <td>109556</td>\n",
       "      <td>Germany</td>\n",
       "      <td>DEU</td>\n",
       "    </tr>\n",
       "    <tr>\n",
       "      <th>602</th>\n",
       "      <td>Both</td>\n",
       "      <td>2020</td>\n",
       "      <td>111937</td>\n",
       "      <td>Germany</td>\n",
       "      <td>DEU</td>\n",
       "    </tr>\n",
       "    <tr>\n",
       "      <th>603</th>\n",
       "      <td>Both</td>\n",
       "      <td>2019</td>\n",
       "      <td>111911</td>\n",
       "      <td>Germany</td>\n",
       "      <td>DEU</td>\n",
       "    </tr>\n",
       "    <tr>\n",
       "      <th>604</th>\n",
       "      <td>Both</td>\n",
       "      <td>2018</td>\n",
       "      <td>111495</td>\n",
       "      <td>Germany</td>\n",
       "      <td>DEU</td>\n",
       "    </tr>\n",
       "    <tr>\n",
       "      <th>...</th>\n",
       "      <td>...</td>\n",
       "      <td>...</td>\n",
       "      <td>...</td>\n",
       "      <td>...</td>\n",
       "      <td>...</td>\n",
       "    </tr>\n",
       "    <tr>\n",
       "      <th>10120</th>\n",
       "      <td>Female</td>\n",
       "      <td>2002</td>\n",
       "      <td>112</td>\n",
       "      <td>New Zealand</td>\n",
       "      <td>NZL</td>\n",
       "    </tr>\n",
       "    <tr>\n",
       "      <th>10121</th>\n",
       "      <td>Female</td>\n",
       "      <td>2001</td>\n",
       "      <td>98</td>\n",
       "      <td>New Zealand</td>\n",
       "      <td>NZL</td>\n",
       "    </tr>\n",
       "    <tr>\n",
       "      <th>10122</th>\n",
       "      <td>Female</td>\n",
       "      <td>2000</td>\n",
       "      <td>85</td>\n",
       "      <td>New Zealand</td>\n",
       "      <td>NZL</td>\n",
       "    </tr>\n",
       "    <tr>\n",
       "      <th>10123</th>\n",
       "      <td>Female</td>\n",
       "      <td>1999</td>\n",
       "      <td>63</td>\n",
       "      <td>New Zealand</td>\n",
       "      <td>NZL</td>\n",
       "    </tr>\n",
       "    <tr>\n",
       "      <th>10124</th>\n",
       "      <td>Female</td>\n",
       "      <td>1998</td>\n",
       "      <td>83</td>\n",
       "      <td>New Zealand</td>\n",
       "      <td>NZL</td>\n",
       "    </tr>\n",
       "  </tbody>\n",
       "</table>\n",
       "<p>8550 rows × 5 columns</p>\n",
       "</div>"
      ],
      "text/plain": [
       "          Sex  Year   Total      Country Country Code\n",
       "600      Both  2022  116122      Germany          DEU\n",
       "601      Both  2021  109556      Germany          DEU\n",
       "602      Both  2020  111937      Germany          DEU\n",
       "603      Both  2019  111911      Germany          DEU\n",
       "604      Both  2018  111495      Germany          DEU\n",
       "...       ...   ...     ...          ...          ...\n",
       "10120  Female  2002     112  New Zealand          NZL\n",
       "10121  Female  2001      98  New Zealand          NZL\n",
       "10122  Female  2000      85  New Zealand          NZL\n",
       "10123  Female  1999      63  New Zealand          NZL\n",
       "10124  Female  1998      83  New Zealand          NZL\n",
       "\n",
       "[8550 rows x 5 columns]"
      ]
     },
     "execution_count": 55,
     "metadata": {},
     "output_type": "execute_result"
    }
   ],
   "source": [
    "nacional1"
   ]
  },
  {
   "cell_type": "markdown",
   "id": "4b1c00e5",
   "metadata": {},
   "source": [
    "Exploratory Data Analysis - Nacional"
   ]
  },
  {
   "cell_type": "code",
   "execution_count": 56,
   "id": "6d55a1ba",
   "metadata": {},
   "outputs": [],
   "source": [
    "#Filtros para gráfico de mapa\n",
    "selected_year = 2021\n",
    "selected_gender = 'Both'"
   ]
  },
  {
   "cell_type": "code",
   "execution_count": 57,
   "id": "19cd7636",
   "metadata": {},
   "outputs": [
    {
     "data": {
      "application/vnd.plotly.v1+json": {
       "config": {
        "plotlyServerURL": "https://plot.ly"
       },
       "data": [
        {
         "coloraxis": "coloraxis",
         "geo": "geo",
         "hovertemplate": "<b>%{hovertext}</b><br><br>Country Code=%{location}<br>Total=%{z}<extra></extra>",
         "hovertext": [
          "Germany",
          "Austria",
          "Belgium",
          "Bulgaria",
          "Cyprus",
          "Croatia",
          "Denmark",
          "Slovenia",
          "Estonia",
          "Finland",
          "France",
          "Greece",
          "Hungary",
          "Ireland",
          "Italy",
          "Latvia",
          "Lithuania",
          "Luxembourg",
          "Malta",
          "Netherlands",
          "Poland",
          "Portugal",
          "Czech Republic",
          "Slovak Republic",
          "Romania",
          "Sweden",
          "Albania",
          "Andorra",
          "Armenia",
          "Belarus",
          "Bosnia and Herzegovina",
          "Georgia",
          "Iceland",
          "Liechtenstein",
          "North Macedonia",
          "Moldova",
          "Norway",
          "United Kingdom",
          "Russia",
          "Serbia",
          "Serbia",
          "Switzerland",
          "Turkey",
          "Ukraine",
          "Angola",
          "Algeria",
          "Benin",
          "Burkina Faso",
          "Cape Verde",
          "Cameroon",
          "Congo",
          "Ivory Coast",
          "Egypt",
          "Ethiopia",
          "Gambia",
          "Ghana",
          "Guinea",
          "Equatorial Guinea",
          "Guinea-Bissau",
          "Kenya",
          "Liberia",
          "Mali",
          "Morocco",
          "Mauritania",
          "Nigeria",
          "Democratic Republic of the Congo",
          "Senegal",
          "Sierra Leone",
          "South Africa",
          "Togo",
          "Tunisia",
          "Costa Rica",
          "Cuba",
          "Dominica",
          "El Salvador",
          "Guatemala",
          "Honduras",
          "Nicaragua",
          "Panama",
          "Dominican Republic",
          "Canada",
          "United States of America",
          "Mexico",
          "Argentina",
          "Bolivia",
          "Brazil",
          "Chile",
          "Colombia",
          "Ecuador",
          "Paraguay",
          "Peru",
          "Uruguay",
          "Venezuela",
          "Saudi Arabia",
          "Bangladesh",
          "China",
          "Korea",
          "Philippines",
          "India",
          "Indonesia",
          "Iran",
          "Iraq",
          "Israel",
          "Japan",
          "Jordan",
          "Kazakhstan",
          "Lebanon",
          "Nepal",
          "Pakistan",
          "Syria",
          "Thailand",
          "Vietnam",
          "Australia",
          "New Zealand"
         ],
         "locations": [
          "DEU",
          "AUT",
          "BEL",
          "BGR",
          "CYP",
          "HRV",
          "DNK",
          "SVN",
          "EST",
          "FIN",
          "FRA",
          "GRC",
          "HUN",
          "IRL",
          "ITA",
          "LVA",
          "LTU",
          "LUX",
          "MLT",
          "NLD",
          "POL",
          "PRT",
          "CZE",
          "SVK",
          "ROU",
          "SWE",
          "ALB",
          "AND",
          "ARM",
          "BLR",
          "BIH",
          "GEO",
          "ISL",
          "LIE",
          "MKD",
          "MDA",
          "NOR",
          "GBR",
          "RUS",
          "SRB",
          "SRB",
          "CHE",
          "TUR",
          "UKR",
          "AGO",
          "DZA",
          "BEN",
          "BFA",
          "CPV",
          "CMR",
          "COG",
          "CIV",
          "EGY",
          "ETH",
          "GMB",
          "GHA",
          "GIN",
          "GNQ",
          "GNB",
          "KEN",
          "LBR",
          "MLI",
          "MAR",
          "MRT",
          "NGA",
          "COD",
          "SEN",
          "SLE",
          "ZAF",
          "TGO",
          "TUN",
          "CRI",
          "CUB",
          "DMA",
          "SLV",
          "GTM",
          "HND",
          "NIC",
          "PAN",
          "DOM",
          "CAN",
          "USA",
          "MEX",
          "ARG",
          "BOL",
          "BRA",
          "CHL",
          "COL",
          "ECU",
          "PRY",
          "PER",
          "URY",
          "VEN",
          "SAU",
          "BGD",
          "CHN",
          "KOR",
          "PHL",
          "IND",
          "IDN",
          "IRN",
          "IRQ",
          "ISR",
          "JPN",
          "JOR",
          "KAZ",
          "LBN",
          "NPL",
          "PAK",
          "SYR",
          "THA",
          "VNM",
          "AUS",
          "NZL"
         ],
         "name": "",
         "type": "choropleth",
         "z": [
          109556,
          7191,
          34669,
          118120,
          480,
          2858,
          8951,
          1705,
          2731,
          11176,
          109397,
          5123,
          10610,
          16669,
          257256,
          5063,
          15913,
          642,
          370,
          46833,
          52206,
          97187,
          7004,
          5790,
          644473,
          20011,
          4013,
          1168,
          12154,
          5682,
          1192,
          20550,
          1431,
          30,
          679,
          17719,
          11148,
          282124,
          79485,
          0,
          3852,
          13058,
          5299,
          112034,
          1590,
          64954,
          313,
          1404,
          2671,
          6199,
          1349,
          5056,
          4163,
          552,
          21937,
          19984,
          11465,
          12586,
          4446,
          1428,
          236,
          28409,
          872759,
          8313,
          37767,
          875,
          78550,
          705,
          1632,
          457,
          2905,
          3288,
          61909,
          506,
          23467,
          7674,
          130119,
          61563,
          2882,
          71686,
          4921,
          39812,
          27818,
          89472,
          85292,
          95433,
          27148,
          291751,
          123736,
          85866,
          111681,
          27659,
          199078,
          788,
          19865,
          229254,
          4190,
          37335,
          53056,
          1976,
          7081,
          1807,
          2365,
          6186,
          1392,
          2932,
          2483,
          5492,
          99352,
          7979,
          2218,
          2362,
          2805,
          801
         ]
        },
        {
         "colorscale": [
          [
           0,
           "red"
          ],
          [
           1,
           "red"
          ]
         ],
         "hoverinfo": "location",
         "locationmode": "ISO-3",
         "locations": [
          "ESP"
         ],
         "showscale": false,
         "type": "choropleth",
         "z": [
          0
         ]
        }
       ],
       "layout": {
        "coloraxis": {
         "colorbar": {
          "title": {
           "text": "Total"
          }
         },
         "colorscale": [
          [
           0,
           "#440154"
          ],
          [
           0.1111111111111111,
           "#482878"
          ],
          [
           0.2222222222222222,
           "#3e4989"
          ],
          [
           0.3333333333333333,
           "#31688e"
          ],
          [
           0.4444444444444444,
           "#26828e"
          ],
          [
           0.5555555555555556,
           "#1f9e89"
          ],
          [
           0.6666666666666666,
           "#35b779"
          ],
          [
           0.7777777777777778,
           "#6ece58"
          ],
          [
           0.8888888888888888,
           "#b5de2b"
          ],
          [
           1,
           "#fde725"
          ]
         ]
        },
        "geo": {
         "center": {},
         "domain": {
          "x": [
           0,
           1
          ],
          "y": [
           0,
           1
          ]
         },
         "projection": {
          "type": "natural earth"
         }
        },
        "legend": {
         "tracegroupgap": 0
        },
        "template": {
         "data": {
          "bar": [
           {
            "error_x": {
             "color": "#2a3f5f"
            },
            "error_y": {
             "color": "#2a3f5f"
            },
            "marker": {
             "line": {
              "color": "#E5ECF6",
              "width": 0.5
             },
             "pattern": {
              "fillmode": "overlay",
              "size": 10,
              "solidity": 0.2
             }
            },
            "type": "bar"
           }
          ],
          "barpolar": [
           {
            "marker": {
             "line": {
              "color": "#E5ECF6",
              "width": 0.5
             },
             "pattern": {
              "fillmode": "overlay",
              "size": 10,
              "solidity": 0.2
             }
            },
            "type": "barpolar"
           }
          ],
          "carpet": [
           {
            "aaxis": {
             "endlinecolor": "#2a3f5f",
             "gridcolor": "white",
             "linecolor": "white",
             "minorgridcolor": "white",
             "startlinecolor": "#2a3f5f"
            },
            "baxis": {
             "endlinecolor": "#2a3f5f",
             "gridcolor": "white",
             "linecolor": "white",
             "minorgridcolor": "white",
             "startlinecolor": "#2a3f5f"
            },
            "type": "carpet"
           }
          ],
          "choropleth": [
           {
            "colorbar": {
             "outlinewidth": 0,
             "ticks": ""
            },
            "type": "choropleth"
           }
          ],
          "contour": [
           {
            "colorbar": {
             "outlinewidth": 0,
             "ticks": ""
            },
            "colorscale": [
             [
              0,
              "#0d0887"
             ],
             [
              0.1111111111111111,
              "#46039f"
             ],
             [
              0.2222222222222222,
              "#7201a8"
             ],
             [
              0.3333333333333333,
              "#9c179e"
             ],
             [
              0.4444444444444444,
              "#bd3786"
             ],
             [
              0.5555555555555556,
              "#d8576b"
             ],
             [
              0.6666666666666666,
              "#ed7953"
             ],
             [
              0.7777777777777778,
              "#fb9f3a"
             ],
             [
              0.8888888888888888,
              "#fdca26"
             ],
             [
              1,
              "#f0f921"
             ]
            ],
            "type": "contour"
           }
          ],
          "contourcarpet": [
           {
            "colorbar": {
             "outlinewidth": 0,
             "ticks": ""
            },
            "type": "contourcarpet"
           }
          ],
          "heatmap": [
           {
            "colorbar": {
             "outlinewidth": 0,
             "ticks": ""
            },
            "colorscale": [
             [
              0,
              "#0d0887"
             ],
             [
              0.1111111111111111,
              "#46039f"
             ],
             [
              0.2222222222222222,
              "#7201a8"
             ],
             [
              0.3333333333333333,
              "#9c179e"
             ],
             [
              0.4444444444444444,
              "#bd3786"
             ],
             [
              0.5555555555555556,
              "#d8576b"
             ],
             [
              0.6666666666666666,
              "#ed7953"
             ],
             [
              0.7777777777777778,
              "#fb9f3a"
             ],
             [
              0.8888888888888888,
              "#fdca26"
             ],
             [
              1,
              "#f0f921"
             ]
            ],
            "type": "heatmap"
           }
          ],
          "heatmapgl": [
           {
            "colorbar": {
             "outlinewidth": 0,
             "ticks": ""
            },
            "colorscale": [
             [
              0,
              "#0d0887"
             ],
             [
              0.1111111111111111,
              "#46039f"
             ],
             [
              0.2222222222222222,
              "#7201a8"
             ],
             [
              0.3333333333333333,
              "#9c179e"
             ],
             [
              0.4444444444444444,
              "#bd3786"
             ],
             [
              0.5555555555555556,
              "#d8576b"
             ],
             [
              0.6666666666666666,
              "#ed7953"
             ],
             [
              0.7777777777777778,
              "#fb9f3a"
             ],
             [
              0.8888888888888888,
              "#fdca26"
             ],
             [
              1,
              "#f0f921"
             ]
            ],
            "type": "heatmapgl"
           }
          ],
          "histogram": [
           {
            "marker": {
             "pattern": {
              "fillmode": "overlay",
              "size": 10,
              "solidity": 0.2
             }
            },
            "type": "histogram"
           }
          ],
          "histogram2d": [
           {
            "colorbar": {
             "outlinewidth": 0,
             "ticks": ""
            },
            "colorscale": [
             [
              0,
              "#0d0887"
             ],
             [
              0.1111111111111111,
              "#46039f"
             ],
             [
              0.2222222222222222,
              "#7201a8"
             ],
             [
              0.3333333333333333,
              "#9c179e"
             ],
             [
              0.4444444444444444,
              "#bd3786"
             ],
             [
              0.5555555555555556,
              "#d8576b"
             ],
             [
              0.6666666666666666,
              "#ed7953"
             ],
             [
              0.7777777777777778,
              "#fb9f3a"
             ],
             [
              0.8888888888888888,
              "#fdca26"
             ],
             [
              1,
              "#f0f921"
             ]
            ],
            "type": "histogram2d"
           }
          ],
          "histogram2dcontour": [
           {
            "colorbar": {
             "outlinewidth": 0,
             "ticks": ""
            },
            "colorscale": [
             [
              0,
              "#0d0887"
             ],
             [
              0.1111111111111111,
              "#46039f"
             ],
             [
              0.2222222222222222,
              "#7201a8"
             ],
             [
              0.3333333333333333,
              "#9c179e"
             ],
             [
              0.4444444444444444,
              "#bd3786"
             ],
             [
              0.5555555555555556,
              "#d8576b"
             ],
             [
              0.6666666666666666,
              "#ed7953"
             ],
             [
              0.7777777777777778,
              "#fb9f3a"
             ],
             [
              0.8888888888888888,
              "#fdca26"
             ],
             [
              1,
              "#f0f921"
             ]
            ],
            "type": "histogram2dcontour"
           }
          ],
          "mesh3d": [
           {
            "colorbar": {
             "outlinewidth": 0,
             "ticks": ""
            },
            "type": "mesh3d"
           }
          ],
          "parcoords": [
           {
            "line": {
             "colorbar": {
              "outlinewidth": 0,
              "ticks": ""
             }
            },
            "type": "parcoords"
           }
          ],
          "pie": [
           {
            "automargin": true,
            "type": "pie"
           }
          ],
          "scatter": [
           {
            "fillpattern": {
             "fillmode": "overlay",
             "size": 10,
             "solidity": 0.2
            },
            "type": "scatter"
           }
          ],
          "scatter3d": [
           {
            "line": {
             "colorbar": {
              "outlinewidth": 0,
              "ticks": ""
             }
            },
            "marker": {
             "colorbar": {
              "outlinewidth": 0,
              "ticks": ""
             }
            },
            "type": "scatter3d"
           }
          ],
          "scattercarpet": [
           {
            "marker": {
             "colorbar": {
              "outlinewidth": 0,
              "ticks": ""
             }
            },
            "type": "scattercarpet"
           }
          ],
          "scattergeo": [
           {
            "marker": {
             "colorbar": {
              "outlinewidth": 0,
              "ticks": ""
             }
            },
            "type": "scattergeo"
           }
          ],
          "scattergl": [
           {
            "marker": {
             "colorbar": {
              "outlinewidth": 0,
              "ticks": ""
             }
            },
            "type": "scattergl"
           }
          ],
          "scattermapbox": [
           {
            "marker": {
             "colorbar": {
              "outlinewidth": 0,
              "ticks": ""
             }
            },
            "type": "scattermapbox"
           }
          ],
          "scatterpolar": [
           {
            "marker": {
             "colorbar": {
              "outlinewidth": 0,
              "ticks": ""
             }
            },
            "type": "scatterpolar"
           }
          ],
          "scatterpolargl": [
           {
            "marker": {
             "colorbar": {
              "outlinewidth": 0,
              "ticks": ""
             }
            },
            "type": "scatterpolargl"
           }
          ],
          "scatterternary": [
           {
            "marker": {
             "colorbar": {
              "outlinewidth": 0,
              "ticks": ""
             }
            },
            "type": "scatterternary"
           }
          ],
          "surface": [
           {
            "colorbar": {
             "outlinewidth": 0,
             "ticks": ""
            },
            "colorscale": [
             [
              0,
              "#0d0887"
             ],
             [
              0.1111111111111111,
              "#46039f"
             ],
             [
              0.2222222222222222,
              "#7201a8"
             ],
             [
              0.3333333333333333,
              "#9c179e"
             ],
             [
              0.4444444444444444,
              "#bd3786"
             ],
             [
              0.5555555555555556,
              "#d8576b"
             ],
             [
              0.6666666666666666,
              "#ed7953"
             ],
             [
              0.7777777777777778,
              "#fb9f3a"
             ],
             [
              0.8888888888888888,
              "#fdca26"
             ],
             [
              1,
              "#f0f921"
             ]
            ],
            "type": "surface"
           }
          ],
          "table": [
           {
            "cells": {
             "fill": {
              "color": "#EBF0F8"
             },
             "line": {
              "color": "white"
             }
            },
            "header": {
             "fill": {
              "color": "#C8D4E3"
             },
             "line": {
              "color": "white"
             }
            },
            "type": "table"
           }
          ]
         },
         "layout": {
          "annotationdefaults": {
           "arrowcolor": "#2a3f5f",
           "arrowhead": 0,
           "arrowwidth": 1
          },
          "autotypenumbers": "strict",
          "coloraxis": {
           "colorbar": {
            "outlinewidth": 0,
            "ticks": ""
           }
          },
          "colorscale": {
           "diverging": [
            [
             0,
             "#8e0152"
            ],
            [
             0.1,
             "#c51b7d"
            ],
            [
             0.2,
             "#de77ae"
            ],
            [
             0.3,
             "#f1b6da"
            ],
            [
             0.4,
             "#fde0ef"
            ],
            [
             0.5,
             "#f7f7f7"
            ],
            [
             0.6,
             "#e6f5d0"
            ],
            [
             0.7,
             "#b8e186"
            ],
            [
             0.8,
             "#7fbc41"
            ],
            [
             0.9,
             "#4d9221"
            ],
            [
             1,
             "#276419"
            ]
           ],
           "sequential": [
            [
             0,
             "#0d0887"
            ],
            [
             0.1111111111111111,
             "#46039f"
            ],
            [
             0.2222222222222222,
             "#7201a8"
            ],
            [
             0.3333333333333333,
             "#9c179e"
            ],
            [
             0.4444444444444444,
             "#bd3786"
            ],
            [
             0.5555555555555556,
             "#d8576b"
            ],
            [
             0.6666666666666666,
             "#ed7953"
            ],
            [
             0.7777777777777778,
             "#fb9f3a"
            ],
            [
             0.8888888888888888,
             "#fdca26"
            ],
            [
             1,
             "#f0f921"
            ]
           ],
           "sequentialminus": [
            [
             0,
             "#0d0887"
            ],
            [
             0.1111111111111111,
             "#46039f"
            ],
            [
             0.2222222222222222,
             "#7201a8"
            ],
            [
             0.3333333333333333,
             "#9c179e"
            ],
            [
             0.4444444444444444,
             "#bd3786"
            ],
            [
             0.5555555555555556,
             "#d8576b"
            ],
            [
             0.6666666666666666,
             "#ed7953"
            ],
            [
             0.7777777777777778,
             "#fb9f3a"
            ],
            [
             0.8888888888888888,
             "#fdca26"
            ],
            [
             1,
             "#f0f921"
            ]
           ]
          },
          "colorway": [
           "#636efa",
           "#EF553B",
           "#00cc96",
           "#ab63fa",
           "#FFA15A",
           "#19d3f3",
           "#FF6692",
           "#B6E880",
           "#FF97FF",
           "#FECB52"
          ],
          "font": {
           "color": "#2a3f5f"
          },
          "geo": {
           "bgcolor": "white",
           "lakecolor": "white",
           "landcolor": "#E5ECF6",
           "showlakes": true,
           "showland": true,
           "subunitcolor": "white"
          },
          "hoverlabel": {
           "align": "left"
          },
          "hovermode": "closest",
          "mapbox": {
           "style": "light"
          },
          "paper_bgcolor": "white",
          "plot_bgcolor": "#E5ECF6",
          "polar": {
           "angularaxis": {
            "gridcolor": "white",
            "linecolor": "white",
            "ticks": ""
           },
           "bgcolor": "#E5ECF6",
           "radialaxis": {
            "gridcolor": "white",
            "linecolor": "white",
            "ticks": ""
           }
          },
          "scene": {
           "xaxis": {
            "backgroundcolor": "#E5ECF6",
            "gridcolor": "white",
            "gridwidth": 2,
            "linecolor": "white",
            "showbackground": true,
            "ticks": "",
            "zerolinecolor": "white"
           },
           "yaxis": {
            "backgroundcolor": "#E5ECF6",
            "gridcolor": "white",
            "gridwidth": 2,
            "linecolor": "white",
            "showbackground": true,
            "ticks": "",
            "zerolinecolor": "white"
           },
           "zaxis": {
            "backgroundcolor": "#E5ECF6",
            "gridcolor": "white",
            "gridwidth": 2,
            "linecolor": "white",
            "showbackground": true,
            "ticks": "",
            "zerolinecolor": "white"
           }
          },
          "shapedefaults": {
           "line": {
            "color": "#2a3f5f"
           }
          },
          "ternary": {
           "aaxis": {
            "gridcolor": "white",
            "linecolor": "white",
            "ticks": ""
           },
           "baxis": {
            "gridcolor": "white",
            "linecolor": "white",
            "ticks": ""
           },
           "bgcolor": "#E5ECF6",
           "caxis": {
            "gridcolor": "white",
            "linecolor": "white",
            "ticks": ""
           }
          },
          "title": {
           "x": 0.05
          },
          "xaxis": {
           "automargin": true,
           "gridcolor": "white",
           "linecolor": "white",
           "ticks": "",
           "title": {
            "standoff": 15
           },
           "zerolinecolor": "white",
           "zerolinewidth": 2
          },
          "yaxis": {
           "automargin": true,
           "gridcolor": "white",
           "linecolor": "white",
           "ticks": "",
           "title": {
            "standoff": 15
           },
           "zerolinecolor": "white",
           "zerolinewidth": 2
          }
         }
        },
        "title": {
         "text": "Immigration by Country in 2021 (Both)"
        }
       }
      },
      "text/html": [
       "<div>                            <div id=\"cf67bb99-500d-4fd5-a809-4d387d992a8a\" class=\"plotly-graph-div\" style=\"height:525px; width:100%;\"></div>            <script type=\"text/javascript\">                require([\"plotly\"], function(Plotly) {                    window.PLOTLYENV=window.PLOTLYENV || {};                                    if (document.getElementById(\"cf67bb99-500d-4fd5-a809-4d387d992a8a\")) {                    Plotly.newPlot(                        \"cf67bb99-500d-4fd5-a809-4d387d992a8a\",                        [{\"coloraxis\":\"coloraxis\",\"geo\":\"geo\",\"hovertemplate\":\"<b>%{hovertext}</b><br><br>Country Code=%{location}<br>Total=%{z}<extra></extra>\",\"hovertext\":[\"Germany\",\"Austria\",\"Belgium\",\"Bulgaria\",\"Cyprus\",\"Croatia\",\"Denmark\",\"Slovenia\",\"Estonia\",\"Finland\",\"France\",\"Greece\",\"Hungary\",\"Ireland\",\"Italy\",\"Latvia\",\"Lithuania\",\"Luxembourg\",\"Malta\",\"Netherlands\",\"Poland\",\"Portugal\",\"Czech Republic\",\"Slovak Republic\",\"Romania\",\"Sweden\",\"Albania\",\"Andorra\",\"Armenia\",\"Belarus\",\"Bosnia and Herzegovina\",\"Georgia\",\"Iceland\",\"Liechtenstein\",\"North Macedonia\",\"Moldova\",\"Norway\",\"United Kingdom\",\"Russia\",\"Serbia\",\"Serbia\",\"Switzerland\",\"Turkey\",\"Ukraine\",\"Angola\",\"Algeria\",\"Benin\",\"Burkina Faso\",\"Cape Verde\",\"Cameroon\",\"Congo\",\"Ivory Coast\",\"Egypt\",\"Ethiopia\",\"Gambia\",\"Ghana\",\"Guinea\",\"Equatorial Guinea\",\"Guinea-Bissau\",\"Kenya\",\"Liberia\",\"Mali\",\"Morocco\",\"Mauritania\",\"Nigeria\",\"Democratic Republic of the Congo\",\"Senegal\",\"Sierra Leone\",\"South Africa\",\"Togo\",\"Tunisia\",\"Costa Rica\",\"Cuba\",\"Dominica\",\"El Salvador\",\"Guatemala\",\"Honduras\",\"Nicaragua\",\"Panama\",\"Dominican Republic\",\"Canada\",\"United States of America\",\"Mexico\",\"Argentina\",\"Bolivia\",\"Brazil\",\"Chile\",\"Colombia\",\"Ecuador\",\"Paraguay\",\"Peru\",\"Uruguay\",\"Venezuela\",\"Saudi Arabia\",\"Bangladesh\",\"China\",\"Korea\",\"Philippines\",\"India\",\"Indonesia\",\"Iran\",\"Iraq\",\"Israel\",\"Japan\",\"Jordan\",\"Kazakhstan\",\"Lebanon\",\"Nepal\",\"Pakistan\",\"Syria\",\"Thailand\",\"Vietnam\",\"Australia\",\"New Zealand\"],\"locations\":[\"DEU\",\"AUT\",\"BEL\",\"BGR\",\"CYP\",\"HRV\",\"DNK\",\"SVN\",\"EST\",\"FIN\",\"FRA\",\"GRC\",\"HUN\",\"IRL\",\"ITA\",\"LVA\",\"LTU\",\"LUX\",\"MLT\",\"NLD\",\"POL\",\"PRT\",\"CZE\",\"SVK\",\"ROU\",\"SWE\",\"ALB\",\"AND\",\"ARM\",\"BLR\",\"BIH\",\"GEO\",\"ISL\",\"LIE\",\"MKD\",\"MDA\",\"NOR\",\"GBR\",\"RUS\",\"SRB\",\"SRB\",\"CHE\",\"TUR\",\"UKR\",\"AGO\",\"DZA\",\"BEN\",\"BFA\",\"CPV\",\"CMR\",\"COG\",\"CIV\",\"EGY\",\"ETH\",\"GMB\",\"GHA\",\"GIN\",\"GNQ\",\"GNB\",\"KEN\",\"LBR\",\"MLI\",\"MAR\",\"MRT\",\"NGA\",\"COD\",\"SEN\",\"SLE\",\"ZAF\",\"TGO\",\"TUN\",\"CRI\",\"CUB\",\"DMA\",\"SLV\",\"GTM\",\"HND\",\"NIC\",\"PAN\",\"DOM\",\"CAN\",\"USA\",\"MEX\",\"ARG\",\"BOL\",\"BRA\",\"CHL\",\"COL\",\"ECU\",\"PRY\",\"PER\",\"URY\",\"VEN\",\"SAU\",\"BGD\",\"CHN\",\"KOR\",\"PHL\",\"IND\",\"IDN\",\"IRN\",\"IRQ\",\"ISR\",\"JPN\",\"JOR\",\"KAZ\",\"LBN\",\"NPL\",\"PAK\",\"SYR\",\"THA\",\"VNM\",\"AUS\",\"NZL\"],\"name\":\"\",\"z\":[109556,7191,34669,118120,480,2858,8951,1705,2731,11176,109397,5123,10610,16669,257256,5063,15913,642,370,46833,52206,97187,7004,5790,644473,20011,4013,1168,12154,5682,1192,20550,1431,30,679,17719,11148,282124,79485,0,3852,13058,5299,112034,1590,64954,313,1404,2671,6199,1349,5056,4163,552,21937,19984,11465,12586,4446,1428,236,28409,872759,8313,37767,875,78550,705,1632,457,2905,3288,61909,506,23467,7674,130119,61563,2882,71686,4921,39812,27818,89472,85292,95433,27148,291751,123736,85866,111681,27659,199078,788,19865,229254,4190,37335,53056,1976,7081,1807,2365,6186,1392,2932,2483,5492,99352,7979,2218,2362,2805,801],\"type\":\"choropleth\"},{\"colorscale\":[[0,\"red\"],[1,\"red\"]],\"hoverinfo\":\"location\",\"locationmode\":\"ISO-3\",\"locations\":[\"ESP\"],\"showscale\":false,\"z\":[0],\"type\":\"choropleth\"}],                        {\"template\":{\"data\":{\"histogram2dcontour\":[{\"type\":\"histogram2dcontour\",\"colorbar\":{\"outlinewidth\":0,\"ticks\":\"\"},\"colorscale\":[[0.0,\"#0d0887\"],[0.1111111111111111,\"#46039f\"],[0.2222222222222222,\"#7201a8\"],[0.3333333333333333,\"#9c179e\"],[0.4444444444444444,\"#bd3786\"],[0.5555555555555556,\"#d8576b\"],[0.6666666666666666,\"#ed7953\"],[0.7777777777777778,\"#fb9f3a\"],[0.8888888888888888,\"#fdca26\"],[1.0,\"#f0f921\"]]}],\"choropleth\":[{\"type\":\"choropleth\",\"colorbar\":{\"outlinewidth\":0,\"ticks\":\"\"}}],\"histogram2d\":[{\"type\":\"histogram2d\",\"colorbar\":{\"outlinewidth\":0,\"ticks\":\"\"},\"colorscale\":[[0.0,\"#0d0887\"],[0.1111111111111111,\"#46039f\"],[0.2222222222222222,\"#7201a8\"],[0.3333333333333333,\"#9c179e\"],[0.4444444444444444,\"#bd3786\"],[0.5555555555555556,\"#d8576b\"],[0.6666666666666666,\"#ed7953\"],[0.7777777777777778,\"#fb9f3a\"],[0.8888888888888888,\"#fdca26\"],[1.0,\"#f0f921\"]]}],\"heatmap\":[{\"type\":\"heatmap\",\"colorbar\":{\"outlinewidth\":0,\"ticks\":\"\"},\"colorscale\":[[0.0,\"#0d0887\"],[0.1111111111111111,\"#46039f\"],[0.2222222222222222,\"#7201a8\"],[0.3333333333333333,\"#9c179e\"],[0.4444444444444444,\"#bd3786\"],[0.5555555555555556,\"#d8576b\"],[0.6666666666666666,\"#ed7953\"],[0.7777777777777778,\"#fb9f3a\"],[0.8888888888888888,\"#fdca26\"],[1.0,\"#f0f921\"]]}],\"heatmapgl\":[{\"type\":\"heatmapgl\",\"colorbar\":{\"outlinewidth\":0,\"ticks\":\"\"},\"colorscale\":[[0.0,\"#0d0887\"],[0.1111111111111111,\"#46039f\"],[0.2222222222222222,\"#7201a8\"],[0.3333333333333333,\"#9c179e\"],[0.4444444444444444,\"#bd3786\"],[0.5555555555555556,\"#d8576b\"],[0.6666666666666666,\"#ed7953\"],[0.7777777777777778,\"#fb9f3a\"],[0.8888888888888888,\"#fdca26\"],[1.0,\"#f0f921\"]]}],\"contourcarpet\":[{\"type\":\"contourcarpet\",\"colorbar\":{\"outlinewidth\":0,\"ticks\":\"\"}}],\"contour\":[{\"type\":\"contour\",\"colorbar\":{\"outlinewidth\":0,\"ticks\":\"\"},\"colorscale\":[[0.0,\"#0d0887\"],[0.1111111111111111,\"#46039f\"],[0.2222222222222222,\"#7201a8\"],[0.3333333333333333,\"#9c179e\"],[0.4444444444444444,\"#bd3786\"],[0.5555555555555556,\"#d8576b\"],[0.6666666666666666,\"#ed7953\"],[0.7777777777777778,\"#fb9f3a\"],[0.8888888888888888,\"#fdca26\"],[1.0,\"#f0f921\"]]}],\"surface\":[{\"type\":\"surface\",\"colorbar\":{\"outlinewidth\":0,\"ticks\":\"\"},\"colorscale\":[[0.0,\"#0d0887\"],[0.1111111111111111,\"#46039f\"],[0.2222222222222222,\"#7201a8\"],[0.3333333333333333,\"#9c179e\"],[0.4444444444444444,\"#bd3786\"],[0.5555555555555556,\"#d8576b\"],[0.6666666666666666,\"#ed7953\"],[0.7777777777777778,\"#fb9f3a\"],[0.8888888888888888,\"#fdca26\"],[1.0,\"#f0f921\"]]}],\"mesh3d\":[{\"type\":\"mesh3d\",\"colorbar\":{\"outlinewidth\":0,\"ticks\":\"\"}}],\"scatter\":[{\"fillpattern\":{\"fillmode\":\"overlay\",\"size\":10,\"solidity\":0.2},\"type\":\"scatter\"}],\"parcoords\":[{\"type\":\"parcoords\",\"line\":{\"colorbar\":{\"outlinewidth\":0,\"ticks\":\"\"}}}],\"scatterpolargl\":[{\"type\":\"scatterpolargl\",\"marker\":{\"colorbar\":{\"outlinewidth\":0,\"ticks\":\"\"}}}],\"bar\":[{\"error_x\":{\"color\":\"#2a3f5f\"},\"error_y\":{\"color\":\"#2a3f5f\"},\"marker\":{\"line\":{\"color\":\"#E5ECF6\",\"width\":0.5},\"pattern\":{\"fillmode\":\"overlay\",\"size\":10,\"solidity\":0.2}},\"type\":\"bar\"}],\"scattergeo\":[{\"type\":\"scattergeo\",\"marker\":{\"colorbar\":{\"outlinewidth\":0,\"ticks\":\"\"}}}],\"scatterpolar\":[{\"type\":\"scatterpolar\",\"marker\":{\"colorbar\":{\"outlinewidth\":0,\"ticks\":\"\"}}}],\"histogram\":[{\"marker\":{\"pattern\":{\"fillmode\":\"overlay\",\"size\":10,\"solidity\":0.2}},\"type\":\"histogram\"}],\"scattergl\":[{\"type\":\"scattergl\",\"marker\":{\"colorbar\":{\"outlinewidth\":0,\"ticks\":\"\"}}}],\"scatter3d\":[{\"type\":\"scatter3d\",\"line\":{\"colorbar\":{\"outlinewidth\":0,\"ticks\":\"\"}},\"marker\":{\"colorbar\":{\"outlinewidth\":0,\"ticks\":\"\"}}}],\"scattermapbox\":[{\"type\":\"scattermapbox\",\"marker\":{\"colorbar\":{\"outlinewidth\":0,\"ticks\":\"\"}}}],\"scatterternary\":[{\"type\":\"scatterternary\",\"marker\":{\"colorbar\":{\"outlinewidth\":0,\"ticks\":\"\"}}}],\"scattercarpet\":[{\"type\":\"scattercarpet\",\"marker\":{\"colorbar\":{\"outlinewidth\":0,\"ticks\":\"\"}}}],\"carpet\":[{\"aaxis\":{\"endlinecolor\":\"#2a3f5f\",\"gridcolor\":\"white\",\"linecolor\":\"white\",\"minorgridcolor\":\"white\",\"startlinecolor\":\"#2a3f5f\"},\"baxis\":{\"endlinecolor\":\"#2a3f5f\",\"gridcolor\":\"white\",\"linecolor\":\"white\",\"minorgridcolor\":\"white\",\"startlinecolor\":\"#2a3f5f\"},\"type\":\"carpet\"}],\"table\":[{\"cells\":{\"fill\":{\"color\":\"#EBF0F8\"},\"line\":{\"color\":\"white\"}},\"header\":{\"fill\":{\"color\":\"#C8D4E3\"},\"line\":{\"color\":\"white\"}},\"type\":\"table\"}],\"barpolar\":[{\"marker\":{\"line\":{\"color\":\"#E5ECF6\",\"width\":0.5},\"pattern\":{\"fillmode\":\"overlay\",\"size\":10,\"solidity\":0.2}},\"type\":\"barpolar\"}],\"pie\":[{\"automargin\":true,\"type\":\"pie\"}]},\"layout\":{\"autotypenumbers\":\"strict\",\"colorway\":[\"#636efa\",\"#EF553B\",\"#00cc96\",\"#ab63fa\",\"#FFA15A\",\"#19d3f3\",\"#FF6692\",\"#B6E880\",\"#FF97FF\",\"#FECB52\"],\"font\":{\"color\":\"#2a3f5f\"},\"hovermode\":\"closest\",\"hoverlabel\":{\"align\":\"left\"},\"paper_bgcolor\":\"white\",\"plot_bgcolor\":\"#E5ECF6\",\"polar\":{\"bgcolor\":\"#E5ECF6\",\"angularaxis\":{\"gridcolor\":\"white\",\"linecolor\":\"white\",\"ticks\":\"\"},\"radialaxis\":{\"gridcolor\":\"white\",\"linecolor\":\"white\",\"ticks\":\"\"}},\"ternary\":{\"bgcolor\":\"#E5ECF6\",\"aaxis\":{\"gridcolor\":\"white\",\"linecolor\":\"white\",\"ticks\":\"\"},\"baxis\":{\"gridcolor\":\"white\",\"linecolor\":\"white\",\"ticks\":\"\"},\"caxis\":{\"gridcolor\":\"white\",\"linecolor\":\"white\",\"ticks\":\"\"}},\"coloraxis\":{\"colorbar\":{\"outlinewidth\":0,\"ticks\":\"\"}},\"colorscale\":{\"sequential\":[[0.0,\"#0d0887\"],[0.1111111111111111,\"#46039f\"],[0.2222222222222222,\"#7201a8\"],[0.3333333333333333,\"#9c179e\"],[0.4444444444444444,\"#bd3786\"],[0.5555555555555556,\"#d8576b\"],[0.6666666666666666,\"#ed7953\"],[0.7777777777777778,\"#fb9f3a\"],[0.8888888888888888,\"#fdca26\"],[1.0,\"#f0f921\"]],\"sequentialminus\":[[0.0,\"#0d0887\"],[0.1111111111111111,\"#46039f\"],[0.2222222222222222,\"#7201a8\"],[0.3333333333333333,\"#9c179e\"],[0.4444444444444444,\"#bd3786\"],[0.5555555555555556,\"#d8576b\"],[0.6666666666666666,\"#ed7953\"],[0.7777777777777778,\"#fb9f3a\"],[0.8888888888888888,\"#fdca26\"],[1.0,\"#f0f921\"]],\"diverging\":[[0,\"#8e0152\"],[0.1,\"#c51b7d\"],[0.2,\"#de77ae\"],[0.3,\"#f1b6da\"],[0.4,\"#fde0ef\"],[0.5,\"#f7f7f7\"],[0.6,\"#e6f5d0\"],[0.7,\"#b8e186\"],[0.8,\"#7fbc41\"],[0.9,\"#4d9221\"],[1,\"#276419\"]]},\"xaxis\":{\"gridcolor\":\"white\",\"linecolor\":\"white\",\"ticks\":\"\",\"title\":{\"standoff\":15},\"zerolinecolor\":\"white\",\"automargin\":true,\"zerolinewidth\":2},\"yaxis\":{\"gridcolor\":\"white\",\"linecolor\":\"white\",\"ticks\":\"\",\"title\":{\"standoff\":15},\"zerolinecolor\":\"white\",\"automargin\":true,\"zerolinewidth\":2},\"scene\":{\"xaxis\":{\"backgroundcolor\":\"#E5ECF6\",\"gridcolor\":\"white\",\"linecolor\":\"white\",\"showbackground\":true,\"ticks\":\"\",\"zerolinecolor\":\"white\",\"gridwidth\":2},\"yaxis\":{\"backgroundcolor\":\"#E5ECF6\",\"gridcolor\":\"white\",\"linecolor\":\"white\",\"showbackground\":true,\"ticks\":\"\",\"zerolinecolor\":\"white\",\"gridwidth\":2},\"zaxis\":{\"backgroundcolor\":\"#E5ECF6\",\"gridcolor\":\"white\",\"linecolor\":\"white\",\"showbackground\":true,\"ticks\":\"\",\"zerolinecolor\":\"white\",\"gridwidth\":2}},\"shapedefaults\":{\"line\":{\"color\":\"#2a3f5f\"}},\"annotationdefaults\":{\"arrowcolor\":\"#2a3f5f\",\"arrowhead\":0,\"arrowwidth\":1},\"geo\":{\"bgcolor\":\"white\",\"landcolor\":\"#E5ECF6\",\"subunitcolor\":\"white\",\"showland\":true,\"showlakes\":true,\"lakecolor\":\"white\"},\"title\":{\"x\":0.05},\"mapbox\":{\"style\":\"light\"}}},\"geo\":{\"domain\":{\"x\":[0.0,1.0],\"y\":[0.0,1.0]},\"projection\":{\"type\":\"natural earth\"},\"center\":{}},\"coloraxis\":{\"colorbar\":{\"title\":{\"text\":\"Total\"}},\"colorscale\":[[0.0,\"#440154\"],[0.1111111111111111,\"#482878\"],[0.2222222222222222,\"#3e4989\"],[0.3333333333333333,\"#31688e\"],[0.4444444444444444,\"#26828e\"],[0.5555555555555556,\"#1f9e89\"],[0.6666666666666666,\"#35b779\"],[0.7777777777777778,\"#6ece58\"],[0.8888888888888888,\"#b5de2b\"],[1.0,\"#fde725\"]]},\"legend\":{\"tracegroupgap\":0},\"title\":{\"text\":\"Immigration by Country in 2021 (Both)\"}},                        {\"responsive\": true}                    ).then(function(){\n",
       "                            \n",
       "var gd = document.getElementById('cf67bb99-500d-4fd5-a809-4d387d992a8a');\n",
       "var x = new MutationObserver(function (mutations, observer) {{\n",
       "        var display = window.getComputedStyle(gd).display;\n",
       "        if (!display || display === 'none') {{\n",
       "            console.log([gd, 'removed!']);\n",
       "            Plotly.purge(gd);\n",
       "            observer.disconnect();\n",
       "        }}\n",
       "}});\n",
       "\n",
       "// Listen for the removal of the full notebook cells\n",
       "var notebookContainer = gd.closest('#notebook-container');\n",
       "if (notebookContainer) {{\n",
       "    x.observe(notebookContainer, {childList: true});\n",
       "}}\n",
       "\n",
       "// Listen for the clearing of the current output cell\n",
       "var outputEl = gd.closest('.output');\n",
       "if (outputEl) {{\n",
       "    x.observe(outputEl, {childList: true});\n",
       "}}\n",
       "\n",
       "                        })                };                });            </script>        </div>"
      ]
     },
     "metadata": {},
     "output_type": "display_data"
    }
   ],
   "source": [
    "# Mapa con información de procedencia de inmigrantes, España en rojo\n",
    "filtered_df = nacional1[(nacional1['Year'] == selected_year) & (nacional1['Sex'] == selected_gender)]\n",
    "\n",
    "fig = px.choropleth(\n",
    "    filtered_df,\n",
    "    locations=\"Country Code\",\n",
    "    color=\"Total\",\n",
    "    hover_name=\"Country\",\n",
    "    color_continuous_scale=\"Viridis\",\n",
    "    title=f'Immigration by Country in {selected_year} ({selected_gender})',\n",
    "    labels={'Value': 'Number of Immigrants'},\n",
    "    projection=\"natural earth\"\n",
    ")\n",
    "\n",
    "spain_code = 'ESP'\n",
    "spain_value = 0\n",
    "\n",
    "fig.add_trace(\n",
    "    go.Choropleth(\n",
    "        locations=[spain_code],\n",
    "        z=[spain_value],\n",
    "        locationmode='ISO-3',\n",
    "        colorscale=[[0, 'red'], [1, 'red']],\n",
    "        showscale=False, \n",
    "        hoverinfo='location'\n",
    "    )\n",
    ")\n",
    "\n",
    "fig.show()"
   ]
  },
  {
   "cell_type": "markdown",
   "id": "bb6519c3",
   "metadata": {},
   "source": [
    "El mapa nos ayuda a entender desde una perspectiva interactiva, qué países tienen un mayor registro de inmigrantes en España. Marruecos y Rumanía, en manera general, son los países que mayor inmigración aportan a través de los años."
   ]
  },
  {
   "cell_type": "code",
   "execution_count": 58,
   "id": "a29f34b3",
   "metadata": {},
   "outputs": [],
   "source": [
    "# Países top en inmigración a España en 2022, según archivo trabajo 24287\n",
    "paises =  [\n",
    "    'DZA',\n",
    " 'PER',\n",
    " 'PRT',\n",
    " 'PRY',\n",
    " 'ROU',\n",
    " 'RUS',\n",
    " 'NIC',\n",
    " 'PAK',\n",
    " 'MAR',\n",
    " 'GBR',\n",
    " 'USA',\n",
    " 'UKR',\n",
    " 'VEN',\n",
    " 'SEN',\n",
    " 'CHN',\n",
    " 'BGR',\n",
    " 'COL',\n",
    " 'CUB',\n",
    " 'ARG',\n",
    " 'BRA',\n",
    " 'HND',\n",
    " 'DEU',\n",
    " 'ITA',\n",
    " 'DOM',\n",
    " 'ECU',\n",
    " 'FRA'\n",
    "]"
   ]
  },
  {
   "cell_type": "code",
   "execution_count": 59,
   "id": "90e08b7b",
   "metadata": {},
   "outputs": [],
   "source": [
    "# Gráfico de barras\n",
    "# Parámetros de entrada\n",
    "selected_year = 2020\n",
    "selected_sex = \"Both\"\n",
    "\n",
    "filtered_df = nacional1[\n",
    "    (nacional1[\"Year\"] == selected_year) &\n",
    "    (nacional1[\"Sex\"] == selected_sex) &\n",
    "    nacional1[\"Country Code\"].isin(paises)\n",
    "]"
   ]
  },
  {
   "cell_type": "code",
   "execution_count": 60,
   "id": "80e14f8f",
   "metadata": {},
   "outputs": [
    {
     "data": {
      "image/png": "[encoded data removed]",
      "text/plain": [
       "<Figure size 1000x600 with 1 Axes>"
      ]
     },
     "metadata": {},
     "output_type": "display_data"
    }
   ],
   "source": [
    "# Plot del gráfico\n",
    "plt.figure(figsize=(10, 6))\n",
    "bars = plt.bar(filtered_df['Country Code'], filtered_df['Total'], color='skyblue')\n",
    "\n",
    "# Add value labels on top of the bars\n",
    "for bar in bars:\n",
    "    yval = bar.get_height()\n",
    "    plt.text(bar.get_x() + bar.get_width()/2, yval, int(yval), ha='center', va='bottom')\n",
    "\n",
    "# Set title and labels\n",
    "plt.title(f'Total Immigrants by Country in {selected_year} ({selected_sex})')\n",
    "plt.xlabel('Country Code')\n",
    "plt.ylabel('Total Immigrants')\n",
    "\n",
    "# Show the plot\n",
    "plt.show()"
   ]
  },
  {
   "cell_type": "code",
   "execution_count": 61,
   "id": "04613f7c",
   "metadata": {},
   "outputs": [],
   "source": [
    "# Boxplot interactivo\n",
    "# Parámetros de entrada\n",
    "selected_year = 2020\n",
    "selected_sex = \"Both\"\n",
    "\n",
    "filtered_df = nacional1[\n",
    "    (nacional1[\"Year\"] == selected_year) &\n",
    "    (nacional1[\"Sex\"] == selected_sex) &\n",
    "    nacional1[\"Country Code\"].isin(paises)\n",
    "]"
   ]
  },
  {
   "cell_type": "code",
   "execution_count": 62,
   "id": "cfb34298",
   "metadata": {},
   "outputs": [
    {
     "data": {
      "application/vnd.jupyter.widget-view+json": {
       "model_id": "71f3bc7b32af4859a3c51c0034355236",
       "version_major": 2,
       "version_minor": 0
      },
      "text/plain": [
       "interactive(children=(Dropdown(description='country', options=('DEU', 'AUT', 'BEL', 'BGR', 'CYP', 'HRV', 'DNK'…"
      ]
     },
     "metadata": {},
     "output_type": "display_data"
    },
    {
     "data": {
      "text/plain": [
       "<function __main__.update_boxplot(country)>"
      ]
     },
     "execution_count": 62,
     "metadata": {},
     "output_type": "execute_result"
    }
   ],
   "source": [
    "def update_boxplot(country):\n",
    "    filtered_df = nacional1[nacional1['Country Code'] == country]\n",
    "    fig = px.box(filtered_df, x='Sex', y='Total', title=f'Immigrant Distribution by Sex in {country}')\n",
    "    fig.show()\n",
    "\n",
    "# Interactive widget to select a country\n",
    "interact(update_boxplot, country=nacional1['Country Code'].unique())"
   ]
  },
  {
   "cell_type": "code",
   "execution_count": null,
   "id": "564e6331",
   "metadata": {},
   "outputs": [],
   "source": []
  }
 ],
 "metadata": {
  "kernelspec": {
   "display_name": "Python 3 (ipykernel)",
   "language": "python",
   "name": "python3"
  },
  "language_info": {
   "codemirror_mode": {
    "name": "ipython",
    "version": 3
   },
   "file_extension": ".py",
   "mimetype": "text/x-python",
   "name": "python",
   "nbconvert_exporter": "python",
   "pygments_lexer": "ipython3",
   "version": "3.10.9"
  }
 },
 "nbformat": 4,
 "nbformat_minor": 5
}
